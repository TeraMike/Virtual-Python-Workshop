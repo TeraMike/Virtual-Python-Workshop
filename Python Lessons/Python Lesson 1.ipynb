{
 "cells": [
  {
   "cell_type": "markdown",
   "metadata": {},
   "source": [
    "# Python, Lesson One!\n",
    "\n",
    "#### In this lesson we will:\n",
    "- Learn about Python, a scripting language\n",
    "- Learn about Jupyter Notebooks\n",
    "- Use Python as a calculator\n",
    "- Store information\n",
    "- Get input from the user\n",
    "- Import some modules\n",
    "- Look at true/false conditionals\n",
    "\n",
    "I've put any important or common computing terms in **bold**.  \n",
    "Words that `look like this` are code, and will be examples, or things you need to do to work along with me!  \n",
    "Importantly, Jupyter Notebooks are just a way of writing and presenting Python, so if I type 'Jupyter' I'm talking about the notebook, and if I type 'Python' I'm talking about the programming language."
   ]
  },
  {
   "cell_type": "markdown",
   "metadata": {},
   "source": [
    "\n",
    "# What is Python?  \n",
    "<img style=\"float: right;\" src=\"Images/script.png\" alt=\"A script open on the first page.\" />  \n",
    "\n",
    "\n",
    "Python is a scripting language.\n",
    "\n",
    "Think of a script for a play, or film! \n",
    "\n",
    "\n",
    "It tells the computer what to say and do.\n",
    "\n",
    "Like a script, Python is designed for readability and ease of use.  \n",
    "Compared to other programming languages, much of Python is implied (when you say `number = 3`, you don't need to say that `number` is an integer, as example), which makes writing with Python fast and easy, as long as you're careful."
   ]
  },
  {
   "cell_type": "markdown",
   "metadata": {},
   "source": [
    "# Jupyter Notebooks\n",
    "\n",
    "Jupyter Notebooks, boiled down, are a Python program crossed with a text file!  \n",
    "Each 'cell' can be assigned a type of text such as markdown or Python, and you can put these cells in any order you like.  \n",
    "This means that Jupyter Notebooks are very good at explaining your thought processes...\n",
    "or running interactive tutorials!\n",
    "\n",
    "Code is remembered between cells, like a normal Python program. But these cells are split up with text, instead of being in one go.  \n",
    "Each cell can be run individually, or you can run every cell at once, or only a selection. You run cells with the 'cell' tab at the top of the screen, or use `shift + return` to run a selected cell. 'Running' a cell will execute any code or markdown formatting therewithin. Double click to select a cell.  \n",
    "Try it below! I've left a code cell for you."
   ]
  },
  {
   "cell_type": "code",
   "execution_count": 2,
   "metadata": {},
   "outputs": [
    {
     "name": "stdout",
     "output_type": "stream",
     "text": [
      "Cell executed!\n"
     ]
    }
   ],
   "source": [
    "# Press shift + return while this cell is selected\n",
    "print(\"Cell executed!\")"
   ]
  },
  {
   "cell_type": "markdown",
   "metadata": {},
   "source": [
    "\n",
    "\n",
    "# So what about it?\n",
    "\n",
    "Computers are really good at doing maths! (Simple maths, at least)\n",
    "\n",
    "Python makes for a really good calculator!\n",
    "You can use it by just typing in what you want, like a normal calculator.\n",
    "\n",
    "Try it in the cell below:"
   ]
  },
  {
   "cell_type": "code",
   "execution_count": 5,
   "metadata": {},
   "outputs": [],
   "source": [
    "# Type 2 + 2 here and press shift-return!\n"
   ]
  },
  {
   "cell_type": "markdown",
   "metadata": {},
   "source": [
    "\n",
    "## Well, nearly a calculator\n",
    "\n",
    "It's similar! But some things are different.\n",
    "\n",
    "| Function | Symbol |\n",
    "| ---------| ------ |\n",
    "|Addition   | + |\n",
    "|Subtraction   | - |\n",
    "| Multiplication  | * |\n",
    "|Division | / |\n",
    "\n",
    "As a fun and useful fact: you can also your chosen internet search engine with these same signs."
   ]
  },
  {
   "cell_type": "markdown",
   "metadata": {},
   "source": [
    "\n",
    "# Storing Results \n",
    "\n",
    "\n",
    "It's like the memory on a calculator..."
   ]
  },
  {
   "cell_type": "code",
   "execution_count": 9,
   "metadata": {},
   "outputs": [
    {
     "name": "stdout",
     "output_type": "stream",
     "text": [
      "25\n"
     ]
    }
   ],
   "source": [
    "ans = 5 * 5\n",
    "print(ans)"
   ]
  },
  {
   "cell_type": "markdown",
   "metadata": {},
   "source": [
    "\n",
    "...but it doesn't change once you assign it! You can use it in other expressions.  "
   ]
  },
  {
   "cell_type": "code",
   "execution_count": 10,
   "metadata": {},
   "outputs": [
    {
     "data": {
      "text/plain": [
       "35"
      ]
     },
     "execution_count": 10,
     "metadata": {},
     "output_type": "execute_result"
    }
   ],
   "source": [
    "ans + 10"
   ]
  },
  {
   "cell_type": "markdown",
   "metadata": {},
   "source": [
    "You can see that _ans_ is 25, which you'd expect.\n",
    "Now we print _ans_ again, and we'll see that it's still 25, where on a calculator it would be 35."
   ]
  },
  {
   "cell_type": "code",
   "execution_count": 11,
   "metadata": {},
   "outputs": [
    {
     "name": "stdout",
     "output_type": "stream",
     "text": [
      "25\n"
     ]
    }
   ],
   "source": [
    "print(ans)"
   ]
  },
  {
   "cell_type": "markdown",
   "metadata": {},
   "source": [
    "\n",
    "# Variables...\n",
    "\n",
    "These stored results are called __variables__, and you can call them anything.\n",
    "\n",
    "You could use algebra, like x, y, z -- or go totally wild and call them things like 'foo' and 'bar'! But it's best to keep your variable names relevant to what you're doing."
   ]
  },
  {
   "cell_type": "code",
   "execution_count": 12,
   "metadata": {},
   "outputs": [
    {
     "name": "stdout",
     "output_type": "stream",
     "text": [
      "40\n"
     ]
    }
   ],
   "source": [
    "x = 5 * 5  \n",
    "y = 27 - 12  \n",
    "z = x + y  \n",
    "print (z)"
   ]
  },
  {
   "cell_type": "markdown",
   "metadata": {},
   "source": [
    "## ...and their names\n",
    "\n",
    "In older languages, variable names would need to be short and somewhat obscure.  \n",
    "` a = 1, b = 22, aa = 52`  \n",
    "Nowadays, and especially in Python, we can use much more descriptive names.  \n",
    " ` number_of_turns_in_game = 10\n",
    " numberOfTurnsInGame = 10` \n",
    " "
   ]
  },
  {
   "cell_type": "markdown",
   "metadata": {},
   "source": [
    "\n",
    "# Exercise 1 -- Variables\n"
   ]
  },
  {
   "cell_type": "markdown",
   "metadata": {},
   "source": [
    "I've written out some variables for you here. \n",
    "\n",
    "a = 15 + 5  \n",
    "b = 20 - 2*a  \n",
    "c = 15 / 5  \n",
    "d = 30 + c  \n",
    "total = a + b + c + d\n",
    "\n",
    "#### What is 'total'?"
   ]
  },
  {
   "cell_type": "code",
   "execution_count": 13,
   "metadata": {},
   "outputs": [],
   "source": [
    "# Here's a cell to type the code!\n"
   ]
  },
  {
   "cell_type": "markdown",
   "metadata": {},
   "source": [
    "You should expect to get 36 as your answer.  \n",
    "Now, these variables are stored until Python is closed, or you rewrite the variables.  \n",
    "(When you re-run Python, they'll be stored again!)\n",
    "\n",
    "This means we can just call these parts back again!"
   ]
  },
  {
   "cell_type": "code",
   "execution_count": 14,
   "metadata": {},
   "outputs": [],
   "source": [
    "# Print at least one variable to show they're remembered by Python across cells.\n"
   ]
  },
  {
   "cell_type": "markdown",
   "metadata": {},
   "source": [
    " Now try changing just one variable to make the answer 40 instead.  \n",
    " Then print the variables out again, and you'll be able to see \n",
    " that they've changed!\n"
   ]
  },
  {
   "cell_type": "code",
   "execution_count": 15,
   "metadata": {},
   "outputs": [],
   "source": [
    "# To show that variables aren't one-and-done. You can reassign them as many times as you like!\n"
   ]
  },
  {
   "cell_type": "markdown",
   "metadata": {},
   "source": [
    "<a id='Variables are cool!'></a>"
   ]
  },
  {
   "cell_type": "markdown",
   "metadata": {},
   "source": [
    "\n",
    "# Variables are cool, but I want to write a program!\n",
    "\n",
    "Typing into the terminal is great for getting an idea of what's happening, but what if we want to keep our code?\n",
    "\n",
    "Normally, in Python, you'd have to write and save a program separately, because that's the only way to store your code.\n",
    "\n",
    "But in Jupyter, code is kept throughout the notebook, so you don't have to worry about that here.  \n",
    "\n",
    "Then you can type your code in to make your program."
   ]
  },
  {
   "cell_type": "markdown",
   "metadata": {},
   "source": [
    "A program is a list of commands, which are executed one after the other.  \n",
    "Here is an example program, which we will write:"
   ]
  },
  {
   "cell_type": "code",
   "execution_count": 16,
   "metadata": {},
   "outputs": [
    {
     "name": "stdout",
     "output_type": "stream",
     "text": [
      "Hello, world!\n"
     ]
    }
   ],
   "source": [
    "welcome = \"Hello, world!\"\n",
    "print(welcome)"
   ]
  },
  {
   "cell_type": "markdown",
   "metadata": {},
   "source": [
    "Here, cells (and therefore code) are run individually, but you can run everything in sequence using the `Cell` and `Run all cells` option at the top, if you'd like. Try it! It'll take you back down to the bottom (the last cell run), where I've put a tag to bring you back here ('Variables are cool!').\n",
    "\n",
    "You should get the output seen above: Hello world!\n",
    "\n"
   ]
  },
  {
   "cell_type": "markdown",
   "metadata": {},
   "source": [
    "# So what's happening?\n",
    "\n",
    "The **program** we have written is being run, line by line, by the **interpreter**.  \n",
    "This exists in Jupyter and Python, and is behind the scenes in both.\n",
    "\n",
    "Line 1 : `welcome = \"Hello, world!\"`  \n",
    "    --> define a new variable, called welcome, which contains a string \"Hello, world!\"\n",
    "    \n",
    "Line 2 : `print(welcome)`  \n",
    "    --> as you might expect, this _prints_ our welcome message to the screen!"
   ]
  },
  {
   "cell_type": "markdown",
   "metadata": {},
   "source": [
    "## What's the deal with 'Hello, world!'?\n",
    "\n",
    "'Hello, world!' is a classic first thing to do with any language.\n",
    "\n",
    "Have a look at the wiki page for \"Hello world program\" by clicking >>[here](https://en.wikipedia.org/wiki/%22Hello,_World!%22_program)<<\n",
    "\n",
    "<img src=\"Images/hello_world!.png\" alt=\"A PSP console with 'hello world' written in various styles.\" />  "
   ]
  },
  {
   "cell_type": "markdown",
   "metadata": {},
   "source": [
    "\n",
    "# User Input\n",
    "\n",
    "Getting the computer to do things is cool and all, but it's a bit boring, since we know exactly what it's going to do!\n",
    "\n",
    "Many programs want some input, to keep things fresh or to give you options when running your program.\n",
    "\n",
    "So try the following in the cell below:  \n",
    "```\n",
    "name = input()\n",
    "print(\"Hello, \" + name + \"!\")\n",
    "```"
   ]
  },
  {
   "cell_type": "code",
   "execution_count": null,
   "metadata": {},
   "outputs": [],
   "source": []
  },
  {
   "cell_type": "markdown",
   "metadata": {},
   "source": [
    "All inputs are saved as `strings`, so if you want to use your input as a number then you'll need another function:  \n",
    "int(), which turns things into an integer. An example:  \n",
    "`fav_number = int(input(\"What's your favourite number? \"))`  \n",
    "Will get the number input and turn it into an integer."
   ]
  },
  {
   "cell_type": "code",
   "execution_count": 17,
   "metadata": {},
   "outputs": [
    {
     "name": "stdout",
     "output_type": "stream",
     "text": [
      "What's your favourite number? 4\n"
     ]
    },
    {
     "data": {
      "text/plain": [
       "int"
      ]
     },
     "execution_count": 17,
     "metadata": {},
     "output_type": "execute_result"
    }
   ],
   "source": [
    "fav_number = int(input(\"What's your favourite number? \"))\n",
    "type(fav_number)  # type() is a function that tells you what type a variable is"
   ]
  },
  {
   "cell_type": "markdown",
   "metadata": {},
   "source": [
    "## Hold on a second, text shouldn't add!\n",
    "\n",
    "You're right, text doesn't add!\n",
    "However, in Python, anything inside a set of quotation marks is called a string.  \n",
    "`\"This is a string!\"`  \n",
    "In Python, when dealing with strings you can add them: this is called concatenation and it just puts them one after the other."
   ]
  },
  {
   "cell_type": "code",
   "execution_count": 18,
   "metadata": {},
   "outputs": [
    {
     "name": "stdout",
     "output_type": "stream",
     "text": [
      "Hello, world!\n",
      "Hello, world!\n"
     ]
    }
   ],
   "source": [
    "# These two print statements will give us the exact same result.\n",
    "# Even though the second one is three strings added together.\n",
    "print(\"Hello, world!\")\n",
    "print(\"Hello,\" + \" \" + \"world!\")"
   ]
  },
  {
   "cell_type": "markdown",
   "metadata": {},
   "source": [
    "Like how inputs are always turned into strings, it's important to remember that you can only concatenate strings.  \n",
    "So if you've made a number variable, or want to add a number into your print statement, it'll need to be a string.  \n",
    "Luckily, there's a command for this: `str()`"
   ]
  },
  {
   "cell_type": "code",
   "execution_count": 19,
   "metadata": {},
   "outputs": [
    {
     "name": "stdout",
     "output_type": "stream",
     "text": [
      "<class 'str'>\n",
      "Now we can concatenate 4 into our print statement!\n"
     ]
    }
   ],
   "source": [
    "number = 2 + 2 \n",
    "number = str(number)  # make number into a string\n",
    "print(type(number))   # show that we've made it into a string\n",
    "\n",
    "print(\"Now we can concatenate \" + number + \" into our print statement!\")"
   ]
  },
  {
   "cell_type": "markdown",
   "metadata": {},
   "source": [
    "\n",
    "# Exercise 2 -- Customising your program\n",
    "\n",
    "Ask the user for some info, like their name, and then use it!\n",
    "\n",
    "Remember to print a statement to ask what your user should enter into the space.\n",
    "\n",
    "```\n",
    "print(\"Please enter your favourite colour: \")  \n",
    "fav_colour = input()\n",
    "```\n",
    "OR  \n",
    "`fav_colour = input(\"Please enter your favourite colour: \")`"
   ]
  },
  {
   "cell_type": "code",
   "execution_count": null,
   "metadata": {},
   "outputs": [],
   "source": []
  },
  {
   "cell_type": "markdown",
   "metadata": {},
   "source": [
    "\n",
    "# Imports and Functions\n",
    "\n",
    "Not everything is included in Python as standard. Lots of content is included from other places.\n",
    "\n",
    "Most other content comes in the form of functions, some of which we have used already.  \n",
    "`print(), input()`\n",
    "\n",
    "\n",
    "<img src=\"Images/dice.png\" alt=\"Two die, thrown, leaving an afterimage of sand.\" />\n",
    "\n",
    "However, since this extra content is in other places, we can just **import** it in when, and only when, we need it!  \n",
    "Here's an example you might get some use out of...\n",
    "\n",
    "# The random module\n",
    "Random numbers are one of the main things in a lot of games:\n",
    "think of games that use cards, or dice."
   ]
  },
  {
   "cell_type": "code",
   "execution_count": 20,
   "metadata": {},
   "outputs": [
    {
     "name": "stdout",
     "output_type": "stream",
     "text": [
      "4\n"
     ]
    }
   ],
   "source": [
    "import random\n",
    "value = random.randint(1,6)\n",
    "# randint means 'random integer'. That's any whole number between the limits specified in the parentheses.\n",
    "# random.randint(x, y) will give you a number between x and y, including x and y.\n",
    "print(value)"
   ]
  },
  {
   "cell_type": "markdown",
   "metadata": {},
   "source": [
    "If you go ahead and enter that exact same code here, you'll find that (5/6 of the time) you get a different number to me. Try it!"
   ]
  },
  {
   "cell_type": "code",
   "execution_count": 21,
   "metadata": {},
   "outputs": [],
   "source": [
    "# Make another random value called value_2 and display it.\n"
   ]
  },
  {
   "cell_type": "markdown",
   "metadata": {},
   "source": [
    "<a id='exercise_3'></a>"
   ]
  },
  {
   "cell_type": "markdown",
   "metadata": {},
   "source": [
    "### Cell memory in Jupyter\n",
    "\n",
    "In Jupyter Notebooks, cells are remembered between each other -- as we said, it's a Python program split up with text.  \n",
    "However, they are *run* separately. This means, if you restart your notebook, you'll need to re-run any cells that other cells depend on.\n",
    "\n",
    "For example, a cell using `random.randint` will need the `import random` cell run first, or it won't work!  \n",
    "(This includes cells that use variables without initialising them within that cell. `if a == 0:` needs `a=0` run first!)\n",
    "\n",
    "So whenever you launch your notebook, make sure all of your setup cells are run before you try your code. It's best to keep all of your imports together, at the top of a notebook/Python script for just this reason: keeping track of why and when things are working."
   ]
  },
  {
   "cell_type": "markdown",
   "metadata": {},
   "source": [
    "# Exercise 3 -- Roll the dice\n",
    "\n",
    "<img src=\"Images/die.png\" alt=\"A red die, with 6 shown on top.\" />\n",
    "\n",
    "Now that we've asked the user for their name and some information, let's add some dice rolls to that code.  \n",
    "\n",
    "There's a new structure for exercises here: a short description of the desired outcome, and if you get stuck there's a step-by-step cell collapsed below.\n",
    "\n",
    "Roll some dice and do something with the results of these dice. What you do is up to you!\n",
    "\n",
    "As an extension, ask the user for input on what size each die should be. Get the average of the rolls and print it out.\n",
    "\n",
    "Remember, you can only concatenate strings (`str()`) and can only use integers (`int()`) in maths functions.  \n",
    "We'll need this random number generation later on, so you'll either want to really commit it to memory or be ready to come back here another time to grab it!"
   ]
  },
  {
   "cell_type": "markdown",
   "metadata": {},
   "source": [
    "Step-by-Step\n",
    "\n",
    "1) In three separate variables, store three random integers.  \n",
    "2) Display the results of these rolls. Then add the results together and display that too.\n",
    "\n",
    "Extension\n",
    "\n",
    "1) Take the user input, convert it to an integer and use it as an argument in randint().  \n",
    "2) The average is the sum of the rolls divided by how many there are."
   ]
  },
  {
   "cell_type": "code",
   "execution_count": 22,
   "metadata": {
    "scrolled": true
   },
   "outputs": [],
   "source": [
    "# To help you along...\n",
    "\n",
    "roll_1 = random.randint(1, 10)\n",
    "roll_2 = None\n",
    "# ...\n",
    "total = None"
   ]
  },
  {
   "cell_type": "code",
   "execution_count": null,
   "metadata": {},
   "outputs": [],
   "source": []
  },
  {
   "cell_type": "markdown",
   "metadata": {},
   "source": [
    "\n",
    "# Conditions\n",
    "\n",
    "<img src=\"images/conditionals.png\" alt=\"A road sign, directing left for True and right for False.\" />  \n",
    "\n",
    "Conditionals result in a logical outcome, such as True or False.   \n",
    "Some examples!\n",
    "\n",
    "| Condition | Symbol |\n",
    "| --------- | ------ |\n",
    "| Greater than | > |\n",
    "| Less than | < | \n",
    "| Equal to | == |\n",
    "| Not equal to | != |\n",
    "\n",
    "== means 'equivalent to', = is used to assign values to variables."
   ]
  },
  {
   "cell_type": "markdown",
   "metadata": {},
   "source": [
    "## Boolean variables\n",
    "\n",
    "These are **True** and **False**. You can set a variable to these like you would any other!"
   ]
  },
  {
   "cell_type": "code",
   "execution_count": 23,
   "metadata": {},
   "outputs": [
    {
     "data": {
      "text/plain": [
       "(True, False)"
      ]
     },
     "execution_count": 23,
     "metadata": {},
     "output_type": "execute_result"
    }
   ],
   "source": [
    "x = True\n",
    "y = False\n",
    "x, y"
   ]
  },
  {
   "cell_type": "markdown",
   "metadata": {},
   "source": [
    "\n",
    "# Exercise 4 -- True or false?\n",
    "Try some of the following statements:  \n",
    "\n",
    "```\n",
    "a = 5         a+b == b+a  \n",
    "b = 10        a-b == b-a  \n",
    "a > b         a*b == b*a  \n",
    "a < b         a/b != b/a\n",
    "```  \n",
    "\n",
    "What do you expect them to be (True or False)?  \n",
    "Feel free to experiment with some other comparisons."
   ]
  },
  {
   "cell_type": "code",
   "execution_count": 24,
   "metadata": {},
   "outputs": [],
   "source": [
    "# Make sure to set a and b before comparing them!\n"
   ]
  },
  {
   "cell_type": "markdown",
   "metadata": {},
   "source": [
    "<a href='#Variables are cool!'>[Back to 'Variables are cool!']</a>"
   ]
  }
 ],
 "metadata": {
  "celltoolbar": "Raw Cell Format",
  "kernelspec": {
   "display_name": "Python 3",
   "language": "python",
   "name": "python3"
  },
  "language_info": {
   "codemirror_mode": {
    "name": "ipython",
    "version": 3
   },
   "file_extension": ".py",
   "mimetype": "text/x-python",
   "name": "python",
   "nbconvert_exporter": "python",
   "pygments_lexer": "ipython3",
   "version": "3.7.6"
  }
 },
 "nbformat": 4,
 "nbformat_minor": 4
}
