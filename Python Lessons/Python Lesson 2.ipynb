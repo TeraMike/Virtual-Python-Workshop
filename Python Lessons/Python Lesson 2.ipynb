{
 "cells": [
  {
   "cell_type": "markdown",
   "metadata": {},
   "source": [
    "# Python, Lesson Two!\n",
    "\n",
    "## Welcome back!\n",
    "\n"
   ]
  },
  {
   "cell_type": "markdown",
   "metadata": {},
   "source": [
    "# What have we learned so far?\n",
    "\n",
    "Variables are assigned like so: `name = value`  \n",
    "So far we have seen number and string variables.\n",
    "\n",
    "Number variables can be interacted with as if they were numbers. `number *= 5` will multiply `number` by five.  \n",
    "You can convert a string to an integer by using `int()`, but this only works if your string is of an integer, like '5'. We can do the same thing with floats using `float()`.\n",
    "\n",
    "Likewise, you can convert an integer to a string by using `str()`.  \n",
    "Strings can be added together, or concatenated, by using `+`. This can be done when assigning variables or when just printing things out.  \n",
    "`print('Hello', name + ', how are you?)` will output << Hello name, how are you? >> In a print statement, using '+' leaves no space between concatenated strings, using ',' does. You must use `+` to assign a concatenated string to a variable.\n",
    "\n",
    "We saw that user input can be taken by using input(). Input can take a text argument, like so:  \n",
    "`variable = input('Please enter your favourite food: ')` or you can separate it out:  \n",
    "`print('Please enter your favourite food!)  \n",
    "variable = input()`\n",
    "\n",
    "And finally, we had a look at conditions (greater than >, less than <, equal ==, not equal != and that we can assign `True` or `False` to a variable."
   ]
  },
  {
   "cell_type": "markdown",
   "metadata": {},
   "source": [
    "\n",
    "# Flow control\n",
    "\n",
    "Not everything happens in order, sometimes decisions must be made and code run, or not run, depending on the result.  \n",
    "\n",
    "<img src=\"Images/flow_control.png\" alt=\"A flowchart about how to handle a lamp not turning on.\" />\n",
    "\n",
    "We have three key options for conditionals:  \n",
    "#### **If**, **While**, **For**"
   ]
  },
  {
   "cell_type": "markdown",
   "metadata": {},
   "source": [
    "# While\n",
    "\n",
    "Loops are useful for repeating bits of code without having to retype it dozens or hundreds of times.  \n",
    "A while loop will keep going as long as the condition is met."
   ]
  },
  {
   "cell_type": "code",
   "execution_count": 25,
   "metadata": {
    "scrolled": true
   },
   "outputs": [
    {
     "name": "stdout",
     "output_type": "stream",
     "text": [
      "0\n",
      "1\n",
      "2\n",
      "3\n",
      "4\n"
     ]
    }
   ],
   "source": [
    "x = 0\n",
    "while (x < 5):\n",
    "    print(x)\n",
    "    x = x + 1\n",
    "# Try it! You'll find that the code repeats four times.\n",
    "# Change it up a bit too. Can x jump in 2s, or repeat eight times?"
   ]
  },
  {
   "cell_type": "markdown",
   "metadata": {},
   "source": [
    "## Looping in the program with While\n",
    "\n",
    "The **while** loop can be the main part of the program.\n",
    "Without going into too much detail, notice the four spaces before everything inside the loop. This is called indentation, and Python uses this to indicate the contents of almost all of its features, such as loops or functions."
   ]
  },
  {
   "cell_type": "code",
   "execution_count": 26,
   "metadata": {},
   "outputs": [],
   "source": [
    "guessesTaken = 0\n",
    "while guessesTaken < 6:\n",
    "    # Do something\n",
    "    guessesTaken = guessesTaken + 1"
   ]
  },
  {
   "cell_type": "markdown",
   "metadata": {},
   "source": [
    "It's a little bit niche, but a fun fact is that `while` loops can also have an `else` statement attached, which will run only if the loop finishes because the condition is false (so, if you `break` the loop otherwise it won't run)."
   ]
  },
  {
   "cell_type": "code",
   "execution_count": 1,
   "metadata": {},
   "outputs": [
    {
     "name": "stdout",
     "output_type": "stream",
     "text": [
      "Hello!\n",
      "Goodbye!\n"
     ]
    }
   ],
   "source": [
    "x = True\n",
    "while x:\n",
    "    print(\"Hello!\")\n",
    "    x = False\n",
    "else:\n",
    "    print(\"Goodbye!\")"
   ]
  },
  {
   "cell_type": "markdown",
   "metadata": {},
   "source": [
    "# If -- choosing what to do\n",
    "\n",
    "Code inside an **if** statement is executed only if the condition is true.\n",
    "\n",
    "`if guess < number:  \n",
    "    print(\"Your guess is too low.\")`   \n",
    "You can see again here, once the indentation is done, the **if** statement is finished."
   ]
  },
  {
   "cell_type": "code",
   "execution_count": 27,
   "metadata": {},
   "outputs": [
    {
     "name": "stdout",
     "output_type": "stream",
     "text": [
      "x is less than or equal to 5!\n"
     ]
    }
   ],
   "source": [
    "#Let's look at an if statement\n",
    "\n",
    "x = 0  # Try changing the value of x...\n",
    "\n",
    "if (x > 5):\n",
    "    print(\"x is greater than 5\")\n",
    "else:\n",
    "    print(\"x is less than or equal to 5!\")\n",
    "\n",
    "# if statements do not need to have an else statement, but they often will."
   ]
  },
  {
   "cell_type": "code",
   "execution_count": 28,
   "metadata": {},
   "outputs": [
    {
     "name": "stdout",
     "output_type": "stream",
     "text": [
      "x is 0\n"
     ]
    }
   ],
   "source": [
    "# There also exists an elif statement, which means 'else if'.\n",
    "# It checks a condition, but only if the last check didn't pass.\n",
    "# With our example of x = 0...\n",
    "x = 0\n",
    "\n",
    "if x == 1:\n",
    "    print('x is 1')\n",
    "elif x == 0:\n",
    "    print('x is 0')\n",
    "else:\n",
    "    print('x is neither 1 nor 0')\n",
    "\n",
    "# You can have as many elifs as you want in one 'block', but if you have too many,\n",
    "# there's probably a better way of checking for your problem!"
   ]
  },
  {
   "cell_type": "markdown",
   "metadata": {},
   "source": [
    "### Null"
   ]
  },
  {
   "cell_type": "markdown",
   "metadata": {},
   "source": [
    "As an aside, we can also check variables in a slightly different way. A variable is 'True' if it has a value, and 'false' if it doesn't (or if it is `None` (null)). So we can check that a variable we've perhaps created earlier has a value, if the need arises.\n",
    "\n",
    "See below: try making `x = \"\"` or `x = 0`. See if the print statements run.  \n",
    "Then change x without altering the if statement to make those statements run."
   ]
  },
  {
   "cell_type": "code",
   "execution_count": 7,
   "metadata": {},
   "outputs": [],
   "source": [
    "x = None\n",
    "if x:\n",
    "    print(\"x as a number is True if it has a non-zero value.\")\n",
    "    print(\"If x were a string, it would need to have at least one character in it.\")\n",
    "    \n",
    "# Try setting x = \"\" or x = 0. Then see how you can make x True."
   ]
  },
  {
   "cell_type": "markdown",
   "metadata": {},
   "source": [
    "Don't worry about FOR loops just yet -- we'll be coming back to those next lesson."
   ]
  },
  {
   "cell_type": "markdown",
   "metadata": {},
   "source": [
    "\n",
    "# Break/Continue\n",
    "\n",
    "\n",
    "     \n",
    "**break** will exit a loop before it is complete, even if the condition isn't met.  \n",
    "Similarly, you can **continue** to the next iteration of a loop if you want to avoid code later in the loop."
   ]
  },
  {
   "cell_type": "code",
   "execution_count": 2,
   "metadata": {},
   "outputs": [
    {
     "name": "stdout",
     "output_type": "stream",
     "text": [
      "0\n",
      "1\n",
      "2\n",
      "x is three, I want to skip four.\n",
      "5\n",
      "6\n"
     ]
    }
   ],
   "source": [
    "x = 0\n",
    "while (x <= 6):\n",
    "    if (x == 3):\n",
    "        print('x is three, I want to skip four.')\n",
    "        x += 2\n",
    "        continue  # Useful for making a different change (+2) than the loop's default (+1).\n",
    "    print(x)\n",
    "    x += 1 "
   ]
  },
  {
   "cell_type": "markdown",
   "metadata": {},
   "source": [
    "<a id='exercise_5'></a>\n",
    "# Exercise 5 -- Guess the number\n",
    "\n",
    "Make a 'guess the number' game. That meaning you / the user get a certain number of guesses to guess a number between e.g.: 1 and 20.  \n",
    "As an extension, add one or more of these features:\n",
    "\n",
    "- Customise the program: e.g.: is the guess too high or too low?  \n",
    "- Add difficulty settings. Higher difficulties may give less guesses or a wider range of numbers.  \n",
    "- 2-player version: two players try to guess different numbers quicker.\n"
   ]
  },
  {
   "cell_type": "markdown",
   "metadata": {},
   "source": [
    "<details><summary>Ex.5: Step-by-Step</summary>\n",
    "\n",
    "1) First, you'll need a variable storing how many guesses are allowed and how many have been taken. Compare these in a `while` loop, increasing 'guessesTaken' each time.\n",
    "\n",
    "2) Get the user's input, and compare it to the random-integer they need to guess to see if they got it right.\n",
    "\n",
    "For the extension additional customisations:\n",
    "\n",
    "3) Check if the user is guessing too high using the conditions from last session.\n",
    "\n",
    "4) Ask the user for a difficulty (typing an answer from a list you show them), and change the variables used in the `while` and `randint` statements.\n",
    "\n",
    "5) A two-player version will require additional numbers to guess and most likely separate loops.\n",
    "</details>"
   ]
  },
  {
   "cell_type": "markdown",
   "metadata": {},
   "source": [
    "The code from exercise three in lesson one will probably be useful here! Compare against those random integers...  \n",
    "Like exercise three, if you want, you can add this to the cells at the end of this notebook (you may need to get your exercise 3 code if you do so):  \n",
    "<a href='#Exercise_cells'>[Click here to go there]</a>\n"
   ]
  },
  {
   "cell_type": "code",
   "execution_count": null,
   "metadata": {},
   "outputs": [],
   "source": []
  },
  {
   "cell_type": "markdown",
   "metadata": {},
   "source": [
    "# Recap -- What more do we know?\n",
    "\n",
    "We have imported and used a module! This is done by typing `import module` where module is the module you want.  \n",
    "You'll then be able to use functions from that module, which is done like so: `module.function()`. You can simply look up the module you want to import to find the functions that you can use from it.  \n",
    "In our example, we imported `random`, which allows to use functions like random.randint(x, y) which will give us a random integer between x and y inclusive.\n",
    "\n",
    "\n",
    "Conditionals! We can check if something is `True` or `False`, or compare conditions using greater than (>), less than (<), equal to (==) and not equal to (!=).\n",
    "\n",
    "We can use these conditions along with other statements to repeat code, or have code not execute at all unless a *condition* is met:  \n",
    "`if` thing compared to thing:\n",
    "    do something if true\n",
    "`elif` thing compared to thing:\n",
    "    do something if true\n",
    "`else`:\n",
    "    do something if no other condition is true\n",
    "    \n",
    "`while` some condition is true:\n",
    "    repeat indented code\n",
    "    \n",
    "You can also break a loop using `break`  \n",
    "`while condition is true:\n",
    "    do something\n",
    "    if variable is not true:\n",
    "        break\n",
    "    do something else`"
   ]
  },
  {
   "cell_type": "markdown",
   "metadata": {},
   "source": [
    "\n",
    "# Boolean Operators\n",
    "\n",
    "are simple words that use binary logic to return a new value.\n",
    "We will look at **AND**, **OR**, and **NOT**.\n",
    "\n",
    "<img src=\"Images/AND_table.PNG\" alt=\"A logical table for AND.\" />  \n",
    "\n",
    "**AND** returns True only if _both_ values being compared are true.\n",
    "\n",
    "<img src=\"Images/OR_table.PNG\" alt=\"A logical table for OR.\" />  \n",
    "\n",
    "**OR** returns True if _either_ value is true.\n",
    "\n",
    "**NOT** simply returns what it says! If you're checking if something is 'not False', you'll get a True value returned, if it isn't false. If it is False, your return will be False.\n",
    "\n",
    "\n",
    "They are used to test multiple statements at once.\n",
    "`while cave != '1' and cave != '2':` \n",
    "'while cave is not one and cave is not two' (so cave could be three)\n"
   ]
  },
  {
   "cell_type": "markdown",
   "metadata": {},
   "source": [
    "\n",
    "# Functions\n",
    "\n",
    "Our final feature for this lesson will be **functions**. You can write these for blocks of code that you'll want to use many times, to save you rewriting it.  \n",
    "It's good practise not to retype the same code many times, so functions fix this and massively improve readability of code.  \n",
    "\n",
    "Here's an example:"
   ]
  },
  {
   "cell_type": "code",
   "execution_count": 29,
   "metadata": {},
   "outputs": [
    {
     "name": "stdout",
     "output_type": "stream",
     "text": [
      "Welcome, Sophy\n",
      "Welcome, Angus\n",
      "Welcome, Callum\n"
     ]
    }
   ],
   "source": [
    "def greeting(name):\n",
    "    print(\"Welcome, \" + name)\n",
    "    \n",
    "greeting(\"Sophy\")\n",
    "greeting(\"Angus\")\n",
    "greeting(\"Callum\")"
   ]
  },
  {
   "cell_type": "markdown",
   "metadata": {},
   "source": [
    "To explain, you first define your function and give it a name.  \n",
    "`def greeting():`  \n",
    "\n",
    "However, in this case, we also give the function an argument to use, that's `name`.  \n",
    "`def greeting(name):`  Whenever we want to use this function, we need to give it a name to use as well.  \n",
    "\n",
    "Then, we add something for our function to do!  \n",
    "`def greeting(name):  \n",
    "     print(\"Welcome, \" + name)`  we use the provided name within our function. Note that code in a function must be indented, like if statements or while loops.\n",
    "     \n",
    "All that's left is to call our function somewhere else.  \n",
    "`greeting(\"Sophy\")` will print \"Welcome, Sophy\" as you can see above.\n",
    "\n",
    "You can do anything with a function! You could make one for numbers like `def double(number):` that doubles a number, or one that doesn't need an argument, like `def info():` which will print some important text."
   ]
  },
  {
   "cell_type": "markdown",
   "metadata": {},
   "source": [
    "These allow you to reuse code easily, and massively improve code space and readability. Functions are key to making any larger Python program!"
   ]
  },
  {
   "cell_type": "markdown",
   "metadata": {},
   "source": [
    "\n",
    "# Exercise 6\n",
    "\n",
    "Use a function or two or more in your 'guess the number' game.\n",
    "Perhaps one for the actual guess, or a guess quality indicator (hot or cold?)\n",
    "\n",
    "# Exercise 7 -- Prime Numbers\n",
    "Write a program that tells you if a number is prime.  \n",
    "- What is a prime number?  \n",
    "- Special cases\n",
    "\n",
    "**Hints:** 1 is not prime! Your code must not say that 1 is a prime number.  \n",
    "To check if a number is a factor of another number, you can use the *modulo* operator, %.  \n",
    "`x % y` gives the remainder of x when divided by y. `4 % 2 = 0`, `4 % 3 = 1`, `7 % 3 = 1`.  \n",
    "You need to check every number below your chosen number. You'll need a while loop.\n",
    "\n",
    "Efficiency extension if you want to save time running your code on large numbers:\n",
    "any non-prime number will have a factor less than or equal to its square root. We can use the `math` module for this:  \n",
    "math.sqrt() for square root.\n",
    "\n",
    "\n",
    "# Extension: Exercise 8 -- Hangman\n",
    "The game where you have to guess a word, one letter at a time.  \n",
    "- How many guesses?\n",
    "- How do you display wrong guesses (you can only guess a letter once)?\n",
    "- Dealing with bad input -- how do make sure you can't enter numbers, capital letters (or no lowercase letters), punctuation\n",
    "\n",
    "Useful tips:\n",
    "\n",
    "- You can look through strings with this notation:  \n",
    "`string[0]`. This will return the first letter in the string.  \n",
    "For example: `string = 'hello'` | `string[0] = 'h'` and `string[4] = 'o'`  \n",
    "We'll cover this in more detail next lesson.  \n",
    "\n",
    "- Using len(string), you can make a loop to check over every letter in a word!\n",
    "\n",
    "- the word `in` can be used to check if something is in something else. (A character in a string, an item in a list, etc.).   \n",
    "E.g.: `if \"a\" in \"apple\"` will be True."
   ]
  },
  {
   "cell_type": "markdown",
   "metadata": {},
   "source": [
    "<details><summary>Ex.6: Step-by-Step</summary>\n",
    "\n",
    "1) Placing the 'making of the guess' into its own function is simply re-using the existing code from exercise 5 and calling a function instead. While this is not any more efficient, it demonstrates using functions for repeated code well, and is more readable.\n",
    "\n",
    "2) A 'guess quality' indicator will want the argument of the guess, and the number-to-guess. Decide how close is 'hot' and 'cold' and compare the two numbers to see how close they are, printing something to tell the user. You'll want to call this whenever the user makes a guess.\n",
    "\n",
    "3) If you have an idea for another function, consider what information the function will need to work (to pass as arguments) and what the correct time to call the function would be.\n",
    "</details>"
   ]
  },
  {
   "cell_type": "markdown",
   "metadata": {},
   "source": [
    "<details><summary>Ex.7: Step-by-Step</summary>\n",
    "\n",
    "1) First, get a number from the user. Check if it's 1, because 1 is not prime!\n",
    "\n",
    "2) Create a loop, increasing a counter. Check if the current counter is a factor of the chosen number. If it is, the number isn't prime and you can break the loop.\n",
    "\n",
    "3) If you reach the end of the loop and don't find any factors, you can confidently say that it's not a prime number!\n",
    "\n",
    "</details>"
   ]
  },
  {
   "cell_type": "markdown",
   "metadata": {},
   "source": [
    "<details><summary>Extension Ex.8: Step-by-Step</summary>\n",
    "\n",
    "There are a few ways you can make a game of hangman. With just the things we've covered so far, here's how I did it. After the course, I'd encourage you to give this one another go.\n",
    "\n",
    "1) First, you'll need to define a word to guess, the remaining turns, and set up a loop to count (up or down) the turns left.\n",
    "\n",
    "2) Then, take the user's guess. Make a few checks: is their guess the word? Ensure that the length (`len()`) of their guess is one character. Have they guessed the letter yet? You may want to store all of the `guesses` they've made using string concatenation and check using `in`.\n",
    "\n",
    "3) With all that setup, you need to display the word, displaying letters that the user has guessed (else, displaying `_` or some other blank). A loop, repeating over each letter of the `word`, using the string-searching notation mentioned above to check each letter, and comparing to the `guesses` like `in` step 2...\n",
    "\n",
    "4) If their guess completes the word, you'll need to let the user win. Counting how many letters are missing from the complete word, and winning if that is zero, would work nicely.\n",
    "\n",
    "5) If they lose, it would be nice to tell them what the word was!\n",
    "\n",
    "</details>"
   ]
  },
  {
   "cell_type": "markdown",
   "metadata": {},
   "source": [
    "<a href='#exercise_5'>[Back to Exercise 5 -- Guess the Number]</a>\n",
    "\n",
    "<a id='Exercise_cells'></a>"
   ]
  },
  {
   "cell_type": "code",
   "execution_count": 30,
   "metadata": {},
   "outputs": [],
   "source": [
    "# Exercise 3/5/6"
   ]
  },
  {
   "cell_type": "code",
   "execution_count": 31,
   "metadata": {},
   "outputs": [],
   "source": [
    "# Exercise 7"
   ]
  },
  {
   "cell_type": "code",
   "execution_count": 32,
   "metadata": {},
   "outputs": [],
   "source": [
    "# Exercise 8"
   ]
  }
 ],
 "metadata": {
  "interpreter": {
   "hash": "278032a30cfb5c02e833568646a335a3fabfa17d7559ae8e8320799896ec3226"
  },
  "kernelspec": {
   "display_name": "Python 3.8.3 32-bit",
   "language": "python",
   "name": "python3"
  },
  "language_info": {
   "codemirror_mode": {
    "name": "ipython",
    "version": 3
   },
   "file_extension": ".py",
   "mimetype": "text/x-python",
   "name": "python",
   "nbconvert_exporter": "python",
   "pygments_lexer": "ipython3",
   "version": "3.8.3"
  }
 },
 "nbformat": 4,
 "nbformat_minor": 4
}
