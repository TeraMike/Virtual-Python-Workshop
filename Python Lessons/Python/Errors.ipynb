{
 "cells": [
  {
   "cell_type": "markdown",
   "metadata": {},
   "source": [
    "# A Bit about Errors\n",
    "\n",
    "This short notebook is to briefly discuss some types of errors and give you some ideas on how to look for and fix your own. Or how to ask us for help :)  \n",
    "Ultimately, there are three types of errors, two of which Python will give you warnings for, and the more elusive logical error."
   ]
  },
  {
   "cell_type": "markdown",
   "metadata": {},
   "source": [
    "# Error Debugging\n",
    "\n",
    "During the workshop, you may well find that your code gets errors. If not, congratulations! But if you need help from us resolving it, here's what to do.\n",
    "\n",
    "Copy your error into the QnA chatbox, particularly the last two lines that show the erroring line, and the type/description of error.  \n",
    "Then copy in your code as well, so we can see where the error might lie if it's not immediately visible in the error message itself.  \n",
    "That's it! From there one of the helpers should be able to give you a hand no trouble :)\n",
    "\n",
    "Let's now talk a bit about some of the types of errors you're likely to see. Hopefully some of this gives you an idea about how to look for errors. Some will be extremely direct, some will require a bit of lateral thinking to see where you've gone wrong."
   ]
  },
  {
   "cell_type": "markdown",
   "metadata": {},
   "source": [
    "# Syntax Errors\n",
    "\n",
    "This is the most basic type of error, meaning that you've typed something wrong and Python doesn't understand it."
   ]
  },
  {
   "cell_type": "code",
   "execution_count": 1,
   "metadata": {},
   "outputs": [
    {
     "ename": "SyntaxError",
     "evalue": "invalid syntax (<ipython-input-1-17192a779b39>, line 1)",
     "output_type": "error",
     "traceback": [
      "\u001b[1;36m  File \u001b[1;32m\"<ipython-input-1-17192a779b39>\"\u001b[1;36m, line \u001b[1;32m1\u001b[0m\n\u001b[1;33m    while True print('Hello, world!')\u001b[0m\n\u001b[1;37m               ^\u001b[0m\n\u001b[1;31mSyntaxError\u001b[0m\u001b[1;31m:\u001b[0m invalid syntax\n"
     ]
    }
   ],
   "source": [
    "if True print('Hello, world!')"
   ]
  },
  {
   "cell_type": "markdown",
   "metadata": {},
   "source": [
    "If you run the code above, you should get a `SyntaxError`. The parser will display the line that caused the issue and give a little pointer arrow at the first place it found the error.  \n",
    "What this means is that the arrow points at the first thing *after* the broken syntax.\n",
    "\n",
    "Here, it's expecting a colon, new line, and indentation after the `if True` statement. So it gets to print, realises those are missing, and gives you an error."
   ]
  },
  {
   "cell_type": "code",
   "execution_count": 4,
   "metadata": {},
   "outputs": [
    {
     "name": "stdout",
     "output_type": "stream",
     "text": [
      "Hello, world!\n"
     ]
    }
   ],
   "source": [
    "if True:\n",
    "    print('Hello, world!')"
   ]
  },
  {
   "cell_type": "markdown",
   "metadata": {},
   "source": [
    "# Exceptions\n",
    "\n",
    "Something can be correct grammatically (as far as Python grammar is concerned) but still not valid, and give you a different type of error.  \n",
    "There are way too many to discuss here, but I'll discuss a few of the more common examples that you're likely to run into.\n",
    "\n",
    "**NameError**: when a referenced name is not defined. You'll often see this by mistyping a variable name, or only defining it in a condition or function but using it elsewhere.\n",
    "\n",
    "**TypeError**: occurs when you try to perform an operation on something that is not the expected type. For example, you can 'add' strings to each other, and you can add integers together, but you can't add strings and integers together.\n",
    "\n",
    "**IndentationError**: when an indentation is expected but not present. The pointer will point directly at the thing that is indented incorrectly.\n",
    "\n",
    "**ZeroDivisionError**: don't divide by zero."
   ]
  },
  {
   "cell_type": "code",
   "execution_count": 5,
   "metadata": {},
   "outputs": [
    {
     "ename": "NameError",
     "evalue": "name 'foo' is not defined",
     "output_type": "error",
     "traceback": [
      "\u001b[1;31m---------------------------------------------------------------------------\u001b[0m",
      "\u001b[1;31mNameError\u001b[0m                                 Traceback (most recent call last)",
      "\u001b[1;32m<ipython-input-5-9112f1c5a9f8>\u001b[0m in \u001b[0;36m<module>\u001b[1;34m\u001b[0m\n\u001b[0;32m      2\u001b[0m \u001b[1;32mif\u001b[0m \u001b[1;32mFalse\u001b[0m\u001b[1;33m:\u001b[0m\u001b[1;33m\u001b[0m\u001b[1;33m\u001b[0m\u001b[0m\n\u001b[0;32m      3\u001b[0m     \u001b[0mfoo\u001b[0m \u001b[1;33m=\u001b[0m \u001b[1;36m8\u001b[0m\u001b[1;33m\u001b[0m\u001b[1;33m\u001b[0m\u001b[0m\n\u001b[1;32m----> 4\u001b[1;33m \u001b[0mprint\u001b[0m\u001b[1;33m(\u001b[0m\u001b[0mfoo\u001b[0m\u001b[1;33m)\u001b[0m\u001b[1;33m\u001b[0m\u001b[1;33m\u001b[0m\u001b[0m\n\u001b[0m",
      "\u001b[1;31mNameError\u001b[0m: name 'foo' is not defined"
     ]
    }
   ],
   "source": [
    "# NameError: you can't print foo because I haven't defined foo. Even if that statement was sometimes True, you'd get an error whenever it wasn't.\n",
    "if False:\n",
    "    foo = 8\n",
    "print(foo)\n",
    "\n",
    "# This could be really subtle, though. If I tried to `print(graphlookup)` when I've only defined `graphLookup` I will get a NameError.\n",
    "# Talking from experience there! Keep an eye on your letter cases. This is why short variable names are easier to work with."
   ]
  },
  {
   "cell_type": "code",
   "execution_count": 6,
   "metadata": {},
   "outputs": [
    {
     "ename": "TypeError",
     "evalue": "can only concatenate str (not \"int\") to str",
     "output_type": "error",
     "traceback": [
      "\u001b[1;31m---------------------------------------------------------------------------\u001b[0m",
      "\u001b[1;31mTypeError\u001b[0m                                 Traceback (most recent call last)",
      "\u001b[1;32m<ipython-input-6-59c862ee3b35>\u001b[0m in \u001b[0;36m<module>\u001b[1;34m\u001b[0m\n\u001b[0;32m      1\u001b[0m \u001b[1;31m# TypeError: adding strings and integers.\u001b[0m\u001b[1;33m\u001b[0m\u001b[1;33m\u001b[0m\u001b[1;33m\u001b[0m\u001b[0m\n\u001b[1;32m----> 2\u001b[1;33m \u001b[1;34m'2'\u001b[0m \u001b[1;33m+\u001b[0m \u001b[1;36m2\u001b[0m\u001b[1;33m\u001b[0m\u001b[1;33m\u001b[0m\u001b[0m\n\u001b[0m",
      "\u001b[1;31mTypeError\u001b[0m: can only concatenate str (not \"int\") to str"
     ]
    }
   ],
   "source": [
    "# TypeError: adding strings and integers.\n",
    "'2' + 2"
   ]
  },
  {
   "cell_type": "code",
   "execution_count": 8,
   "metadata": {},
   "outputs": [
    {
     "name": "stdout",
     "output_type": "stream",
     "text": [
      "dict_keys(['dictionary', 'two keys'])\n"
     ]
    },
    {
     "ename": "TypeError",
     "evalue": "'dict_keys' object is not subscriptable",
     "output_type": "error",
     "traceback": [
      "\u001b[1;31m---------------------------------------------------------------------------\u001b[0m",
      "\u001b[1;31mTypeError\u001b[0m                                 Traceback (most recent call last)",
      "\u001b[1;32m<ipython-input-8-2c7edd6281a7>\u001b[0m in \u001b[0;36m<module>\u001b[1;34m\u001b[0m\n\u001b[0;32m      2\u001b[0m \u001b[0md\u001b[0m \u001b[1;33m=\u001b[0m \u001b[1;33m{\u001b[0m\u001b[1;34m'dictionary'\u001b[0m\u001b[1;33m:\u001b[0m \u001b[1;34m'has keys and items'\u001b[0m\u001b[1;33m,\u001b[0m \u001b[1;34m'two keys'\u001b[0m\u001b[1;33m:\u001b[0m \u001b[1;34m'two items'\u001b[0m\u001b[1;33m}\u001b[0m\u001b[1;33m\u001b[0m\u001b[1;33m\u001b[0m\u001b[0m\n\u001b[0;32m      3\u001b[0m \u001b[0mprint\u001b[0m\u001b[1;33m(\u001b[0m\u001b[0md\u001b[0m\u001b[1;33m.\u001b[0m\u001b[0mkeys\u001b[0m\u001b[1;33m(\u001b[0m\u001b[1;33m)\u001b[0m\u001b[1;33m)\u001b[0m\u001b[1;33m\u001b[0m\u001b[1;33m\u001b[0m\u001b[0m\n\u001b[1;32m----> 4\u001b[1;33m \u001b[0ma\u001b[0m \u001b[1;33m=\u001b[0m \u001b[0md\u001b[0m\u001b[1;33m.\u001b[0m\u001b[0mkeys\u001b[0m\u001b[1;33m(\u001b[0m\u001b[1;33m)\u001b[0m\u001b[1;33m[\u001b[0m\u001b[1;36m0\u001b[0m\u001b[1;33m]\u001b[0m  \u001b[1;31m# [0] should give the first key, 'dictionary', right?\u001b[0m\u001b[1;33m\u001b[0m\u001b[1;33m\u001b[0m\u001b[0m\n\u001b[0m\u001b[0;32m      5\u001b[0m \u001b[1;31m# Nope, the dict_keys object returned by d.keys() cannot be accessed in that way. TypeError.\u001b[0m\u001b[1;33m\u001b[0m\u001b[1;33m\u001b[0m\u001b[1;33m\u001b[0m\u001b[0m\n",
      "\u001b[1;31mTypeError\u001b[0m: 'dict_keys' object is not subscriptable"
     ]
    }
   ],
   "source": [
    "# Another TypeError: attempting to access a not-list object in a way that\n",
    "d = {'dictionary': 'has keys and items', 'two keys': 'two items'}\n",
    "print(d.keys())\n",
    "a = d.keys()[0]  # [0] should give the first key, 'dictionary', right?\n",
    "# Nope, the dict_keys object returned by d.keys() cannot be accessed in that way. TypeError."
   ]
  },
  {
   "cell_type": "code",
   "execution_count": 9,
   "metadata": {},
   "outputs": [
    {
     "ename": "ZeroDivisionError",
     "evalue": "division by zero",
     "output_type": "error",
     "traceback": [
      "\u001b[1;31m---------------------------------------------------------------------------\u001b[0m",
      "\u001b[1;31mZeroDivisionError\u001b[0m                         Traceback (most recent call last)",
      "\u001b[1;32m<ipython-input-9-1f9050bc5837>\u001b[0m in \u001b[0;36m<module>\u001b[1;34m\u001b[0m\n\u001b[0;32m      1\u001b[0m \u001b[1;31m# ZeroDivisionError\u001b[0m\u001b[1;33m\u001b[0m\u001b[1;33m\u001b[0m\u001b[1;33m\u001b[0m\u001b[0m\n\u001b[1;32m----> 2\u001b[1;33m \u001b[1;36m10\u001b[0m\u001b[1;33m/\u001b[0m\u001b[1;36m0\u001b[0m\u001b[1;33m\u001b[0m\u001b[1;33m\u001b[0m\u001b[0m\n\u001b[0m",
      "\u001b[1;31mZeroDivisionError\u001b[0m: division by zero"
     ]
    }
   ],
   "source": [
    "# ZeroDivisionError\n",
    "10/0"
   ]
  },
  {
   "cell_type": "markdown",
   "metadata": {},
   "source": [
    "Python is pretty helpful here. It will point you exactly at what line is causing the error. If you're getting a NameError, check for typos and that the variable you're accessing is always defined. A TypeError suggests you haven't converted that integer to a string when you're trying to print it, perhaps. `str()` is your friend!"
   ]
  },
  {
   "cell_type": "markdown",
   "metadata": {},
   "source": [
    "# Logical Errors"
   ]
  },
  {
   "cell_type": "markdown",
   "metadata": {},
   "source": [
    "A logical error works a bit differently. These won't give you an exception and won't halt your program. They're syntactically correct, but an error on the part of the programmer that gives an unexpected result. An example:"
   ]
  },
  {
   "cell_type": "code",
   "execution_count": 10,
   "metadata": {},
   "outputs": [
    {
     "name": "stdout",
     "output_type": "stream",
     "text": [
      "x is neither 1 nor 0\n"
     ]
    }
   ],
   "source": [
    "x = input(\"Enter 1 or 0\")\n",
    "if x == 1:\n",
    "    print('x is 1')\n",
    "elif x == 0:\n",
    "    print('x is 0')\n",
    "else:\n",
    "    print('x is neither 1 nor 0')"
   ]
  },
  {
   "cell_type": "markdown",
   "metadata": {},
   "source": [
    "This code will always say that 'x is neither 1 nor 0', no matter what you type. This is because `input()` saves the response as a string, but the `if` statements are checking that x is equal to the integer 1 or 0. The code will run but it won't give the output you're expecting, making it a logical error.  \n",
    "\n",
    "\n",
    "Here's a real-life example from my own work:"
   ]
  },
  {
   "cell_type": "markdown",
   "metadata": {},
   "source": [
    "<img src=\"images/lowercaseName.png\" alt=\"A code snippet, showing a database fetch method referring to a field called 'name'. It has a lowercase n.\" />\n",
    "\n",
    "This code works fine to fetch database objects, and is grammatically correct, but in this case it's not going to find any ancestors, and just completely not work, because it's looking for a field that doesn't exist! Note the case of the 'n' in each image.\n",
    "\n",
    "<img src=\"images/uppercaseName.png\" alt=\"Database objects with the 'Name' attributed highlighted. It has an upper case N.\" /> "
   ]
  }
 ],
 "metadata": {
  "interpreter": {
   "hash": "b859d9bcf8d7d89e11e38465defecfc8ebdb585d978d9823e0b6eeac5dc038a0"
  },
  "kernelspec": {
   "display_name": "Python 3.8.3 32-bit",
   "language": "python",
   "name": "python3"
  },
  "language_info": {
   "codemirror_mode": {
    "name": "ipython",
    "version": 3
   },
   "file_extension": ".py",
   "mimetype": "text/x-python",
   "name": "python",
   "nbconvert_exporter": "python",
   "pygments_lexer": "ipython3",
   "version": "3.8.3"
  },
  "orig_nbformat": 4
 },
 "nbformat": 4,
 "nbformat_minor": 2
}
