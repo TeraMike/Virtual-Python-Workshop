{
 "cells": [
  {
   "cell_type": "markdown",
   "metadata": {},
   "source": [
    "# Python, Lesson Four!"
   ]
  },
  {
   "cell_type": "code",
   "execution_count": null,
   "metadata": {},
   "outputs": [],
   "source": []
  },
  {
   "attachments": {},
   "cell_type": "markdown",
   "metadata": {},
   "source": [
    "## Flowcharts\n",
    "\n",
    "They're a useful way of mapping out your code.\n",
    "'This leads to this, leads to that, maybe back to this'. Sometimes a sketch, or just writing things out in a notepad!\n",
    "\n",
    "The website draw.io will allow you to make proper visual flowcharts, but you won't likely need one for this.\n",
    "\n",
    "\n",
    "<img style=\"float:center;\" src=\"images/RPSLS.png\" alt=\"A Rock Paper Scissors Lizard Spock flowchart.\" />  \n",
    "\n",
    "A classic example...\n",
    "\n",
    "### Rock, Paper, Scissors... Lizard, Spock\n",
    "Scissors cuts paper  \n",
    "Paper covers rock  \n",
    "Rock crushes Lizard  \n",
    "Lizard poisons Spock  \n",
    "Spock smashes Scissors  \n",
    "Scissors decapitates lizard  \n",
    "Lizard eats paper  \n",
    "Paper disproves Spock  \n",
    "Spock vaporises rock  \n",
    "Rock crushes scissors  "
   ]
  },
  {
   "cell_type": "markdown",
   "metadata": {},
   "source": [
    "# Exercise 4 -- Cave Systems and Fire Lizards\n",
    "\n",
    "Put everything together and write a text adventure game!  \n",
    "If you're not familiar, they're like those 'Choose Your Own Adventure' books where you pick which page to go to depending on what you want to do.\n",
    "\n",
    "You can make this *however you like!* But to help you along I've come up with some basic ideas and starter code for you, if you like.\n",
    "\n",
    "Idea 1:  \n",
    "The dragon has you cornered in a cave! You must beat him, best of 3, at his games in order to survive.  \n",
    "These games might (but don't have to) include:  \n",
    "- Guess the number\n",
    "- Anagrams\n",
    "- Write your name backwards\n",
    "- Rock paper scissors lizard Spock\n",
    "- Hangman\n",
    "- Noughts and crosses\n",
    "\n",
    "I'd start with putting the ones we've done into this new format, and then move to the trickier ones like \n",
    "\n",
    "<img src=\"images/text_adventure_dragon.png\" alt=\"An example flowchart for the dragon adventure game.\" />  \n",
    "\n",
    "Idea 2: \n",
    "\n",
    "A classic adventure game! But since we're in Python, we can be fancier than a book and include the games as well.  \n",
    "Encounter a monster, beat a game or make the right choice in order to progress. Maybe losing could set you down a different path...?\n",
    "\n",
    "<img src=\"images/text_adventure_classic.png\" alt=\"An example flowchart for a typical classic text adventure game.\" />  "
   ]
  },
  {
   "cell_type": "code",
   "execution_count": null,
   "metadata": {},
   "outputs": [],
   "source": []
  },
  {
   "cell_type": "code",
   "execution_count": null,
   "metadata": {},
   "outputs": [],
   "source": []
  },
  {
   "cell_type": "code",
   "execution_count": null,
   "metadata": {},
   "outputs": [],
   "source": []
  },
  {
   "cell_type": "code",
   "execution_count": null,
   "metadata": {},
   "outputs": [],
   "source": []
  },
  {
   "cell_type": "code",
   "execution_count": null,
   "metadata": {},
   "outputs": [],
   "source": []
  }
 ],
 "metadata": {
  "kernelspec": {
   "display_name": "Python 3",
   "language": "python",
   "name": "python3"
  },
  "language_info": {
   "codemirror_mode": {
    "name": "ipython",
    "version": 3
   },
   "file_extension": ".py",
   "mimetype": "text/x-python",
   "name": "python",
   "nbconvert_exporter": "python",
   "pygments_lexer": "ipython3",
   "version": "3.7.6"
  }
 },
 "nbformat": 4,
 "nbformat_minor": 4
}
