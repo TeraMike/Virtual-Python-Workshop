{
 "cells": [
  {
   "cell_type": "markdown",
   "metadata": {},
   "source": [
    "# Python, Lesson Four!"
   ]
  },
  {
   "cell_type": "markdown",
   "metadata": {},
   "source": [
    "If you need a recap on anything we've done so far, there's a glossary file containing notes on everything we've learned about in each lesson, sorted by lesson."
   ]
  },
  {
   "cell_type": "markdown",
   "metadata": {},
   "source": [
    "## Flowcharts\n",
    "\n",
    "They're a useful way of mapping out your code.\n",
    "'This leads to this, leads to that, maybe back to this'. Sometimes a sketch, or just writing things out in a notepad!\n",
    "\n",
    "The website draw.io will allow you to make proper visual flowcharts, but you won't likely need one for this.\n",
    "\n",
    "\n",
    "<img style=\"float:center;\" src=\"Images/RPSLS.PNG\" alt=\"A Rock Paper Scissors Lizard Spock flowchart.\" />  \n",
    "\n",
    "A classic example...\n",
    "\n",
    "### Rock, Paper, Scissors... Lizard, Spock\n",
    "Scissors cuts paper  \n",
    "Paper covers rock  \n",
    "Rock crushes Lizard  \n",
    "Lizard poisons Spock  \n",
    "Spock smashes Scissors  \n",
    "Scissors decapitates lizard  \n",
    "Lizard eats paper  \n",
    "Paper disproves Spock  \n",
    "Spock vaporises rock  \n",
    "Rock crushes scissors  "
   ]
  },
  {
   "cell_type": "markdown",
   "metadata": {},
   "source": [
    "# Exercise 13 -- Cave Systems and Fire Lizards\n",
    "\n",
    "Put everything together and write a text adventure game!  \n",
    "If you're not familiar, they're like those 'Choose Your Own Adventure' books where you pick which page to go to depending on what you want to do.\n",
    "\n",
    "You can make this *however you like!* But to help you along I've come up with some basic ideas and starter code for you, if you like.\n",
    "\n",
    "Idea 1:  \n",
    "The dragon has you cornered in a cave! You must beat him, best of 3, at his games in order to survive.  \n",
    "These games might (but don't have to) include:  \n",
    "- Guess the number\n",
    "- Anagrams\n",
    "- Write your name backwards\n",
    "- Rock paper scissors lizard Spock\n",
    "- Hangman\n",
    "- Noughts and crosses\n",
    "\n",
    "I'd start with putting the ones we've done into this new format, and then move to the trickier ones like noughts and crosses, or rock paper scissors lizard Spock.\n",
    "\n",
    "<img src=\"Images/text_adventure_dragon.PNG\" alt=\"An example flowchart for the dragon adventure game.\" />  \n",
    "\n",
    "Start, pick a game, give a point to the winner, check if anyone has enough points, and repeat/start as needed.\n",
    "\n",
    "\n",
    "Idea 2: \n",
    "\n",
    "A classic adventure game! But since we're in Python, we can be fancier than a book and include the games as well.  \n",
    "Encounter a monster, beat a game or make the right choice in order to progress. Maybe losing could set you down a different path...?\n",
    "\n",
    "<img src=\"Images/text_adventure_classic.PNG\" alt=\"An example flowchart for a typical classic text adventure game.\" />  \n",
    "\n",
    "Some choices may not lead to an immediate failure, and some choices may lead to the same place. In this case, each monster would want to be a game you have to beat...  \n",
    "\n",
    "Flowcharting your games might be very helpful, if you have some paper (or Paint!) to hand."
   ]
  },
  {
   "cell_type": "code",
   "execution_count": null,
   "metadata": {},
   "outputs": [],
   "source": [
    "# def aGame(scores):\n",
    "# ...\n",
    "# if player_wins:\n",
    "# increase and return score -- if you want to do a best of three, for example.\n",
    "# ..."
   ]
  },
  {
   "cell_type": "code",
   "execution_count": null,
   "metadata": {},
   "outputs": [],
   "source": [
    "# def nextGame(scores):\n",
    "# ...\n",
    "# if dragon wins:\n",
    "# increase and return score"
   ]
  },
  {
   "cell_type": "code",
   "execution_count": null,
   "metadata": {},
   "outputs": [],
   "source": [
    "# def someGamesMightNeedMoreThanOneFunction(scores)\n",
    "\n",
    "# note: don't make your function names this long!"
   ]
  },
  {
   "cell_type": "code",
   "execution_count": null,
   "metadata": {},
   "outputs": [],
   "source": []
  },
  {
   "cell_type": "code",
   "execution_count": null,
   "metadata": {},
   "outputs": [],
   "source": [
    "# print(\"intro text\")\n",
    "# scores = {}  # if you want to do scores\n",
    "# main(scores)\n",
    "\n",
    "# while nobody has scored enough points:\n",
    "# print(\"pick a game\")\n",
    "# if choice is this\n",
    "# aGame(scores)\n",
    "# elif choice is that\n",
    "# nextgame(scores)\n",
    "# else\n",
    "# print(\"pick a valid game\")\n",
    "\n",
    "\n",
    "# don't forget comments to explain your thought process!"
   ]
  }
 ],
 "metadata": {
  "kernelspec": {
   "display_name": "Python 3",
   "language": "python",
   "name": "python3"
  },
  "language_info": {
   "codemirror_mode": {
    "name": "ipython",
    "version": 3
   },
   "file_extension": ".py",
   "mimetype": "text/x-python",
   "name": "python",
   "nbconvert_exporter": "python",
   "pygments_lexer": "ipython3",
   "version": "3.7.6"
  }
 },
 "nbformat": 4,
 "nbformat_minor": 4
}
