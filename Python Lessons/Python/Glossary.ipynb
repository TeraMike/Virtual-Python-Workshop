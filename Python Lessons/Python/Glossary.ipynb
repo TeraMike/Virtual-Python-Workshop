{
 "cells": [
  {
   "cell_type": "markdown",
   "metadata": {},
   "source": [
    "# Glossary\n",
    "\n",
    "A short definition of all the things we've covered so far, split up by lesson.  \n",
    "This includes some other functions related to those things that you might want to know."
   ]
  },
  {
   "cell_type": "markdown",
   "metadata": {},
   "source": [
    "# Lesson 1"
   ]
  },
  {
   "cell_type": "markdown",
   "metadata": {},
   "source": [
    "## Variables\n",
    "\n",
    "Variables can store a value and be named anything. What a variable stores affects its **type**."
   ]
  },
  {
   "cell_type": "code",
   "execution_count": 4,
   "metadata": {},
   "outputs": [],
   "source": [
    "foo = '10'  # a string of a number\n",
    "bar = 4  # an integer\n",
    "x = 4.5  # A float"
   ]
  },
  {
   "cell_type": "markdown",
   "metadata": {},
   "source": [
    "## Strings and Numbers\n",
    "\n",
    "You can add strings together, this is called **concatenation**.  \n",
    "You can make sure something is a string by converting it to a string with with **str()**.  \n",
    "\n",
    "Maths functions are performed on numbers, add +, divide /, subtract -, multiply \\*, modulo %   \n",
    "You can convert things to floats or integers by using **float()** or **int()**, but only if they are actually an integer or float in the first place. `int()` will always round down.\n"
   ]
  },
  {
   "cell_type": "code",
   "execution_count": 29,
   "metadata": {},
   "outputs": [
    {
     "name": "stdout",
     "output_type": "stream",
     "text": [
      "104\n"
     ]
    }
   ],
   "source": [
    "print(foo + str(bar))  \n",
    "# Concatenation doesn't add spaces, put them in your string or concatenate them in too"
   ]
  },
  {
   "cell_type": "code",
   "execution_count": 7,
   "metadata": {},
   "outputs": [
    {
     "name": "stdout",
     "output_type": "stream",
     "text": [
      "8.5\n",
      "19.0\n"
     ]
    }
   ],
   "source": [
    "print(bar + x)\n",
    "print(2*x + int(foo))"
   ]
  },
  {
   "cell_type": "markdown",
   "metadata": {},
   "source": [
    "## Input\n",
    "\n",
    "User input is read in using **input()**.  \n",
    "All inputs are saved as strings. You can give the user a prompt to respond to with a `print()` statement before or by passing a string directly to input.\n",
    "\n",
    "`response = input(\"Favourite breakfast?\")`"
   ]
  },
  {
   "cell_type": "markdown",
   "metadata": {},
   "source": [
    "## Imports\n",
    "\n",
    "Python has many, *many* external packages that you can bring in to use extra functions that aren't included standard. You'll have to search for them in the Python documentation or on Google.\n",
    "\n",
    "One example is `random`.  \n",
    "Simply type `import random` at the top of your script and you can use its functions.  \n",
    "You can import a function as something else if its name is long: `import random as rand`  \n",
    "For this course you'll get use out of `rand.randint` and `rand.choice`."
   ]
  },
  {
   "cell_type": "markdown",
   "metadata": {},
   "source": [
    "# Comparisons and Booleans\n",
    "\n",
    "Comparisons give a logical outcome: True or False  \n",
    "Greater than >, less than <, equal to ==, not equal to !=.  \n",
    "You'll most often compare a variable to a specific value (checking a score for a win, for example) or two variables to each other.\n",
    "\n",
    "## Boolean Variables\n",
    "\n",
    "The values `True` and `False` can be assigned to a variable and used as comparisons."
   ]
  },
  {
   "cell_type": "code",
   "execution_count": 8,
   "metadata": {},
   "outputs": [
    {
     "name": "stdout",
     "output_type": "stream",
     "text": [
      "True False\n"
     ]
    }
   ],
   "source": [
    "x = True\n",
    "y = False\n",
    "print(x, y)"
   ]
  },
  {
   "cell_type": "markdown",
   "metadata": {},
   "source": [
    "___________\n",
    "___________\n",
    "___________"
   ]
  },
  {
   "cell_type": "markdown",
   "metadata": {},
   "source": [
    "# Lesson 2"
   ]
  },
  {
   "cell_type": "markdown",
   "metadata": {},
   "source": [
    "## Conditionals: `If` and `While`\n",
    "\n",
    "**While** is used to repeat code without retyping it dozens or hundreds of times. A while loop will continue *while* its condition is True."
   ]
  },
  {
   "cell_type": "code",
   "execution_count": 9,
   "metadata": {},
   "outputs": [
    {
     "name": "stdout",
     "output_type": "stream",
     "text": [
      "0\n",
      "1\n",
      "2\n",
      "3\n",
      "4\n"
     ]
    }
   ],
   "source": [
    "x = 0\n",
    "while (x < 5):\n",
    "    print(x)\n",
    "    x += 1"
   ]
  },
  {
   "cell_type": "markdown",
   "metadata": {},
   "source": [
    "You can **break** a while loop to exit it completely, even if the condition is not met.  \n",
    "You can also **continue** a loop to skip directly to the next iteration, if you no longer need the rest of the code in the loop this time."
   ]
  },
  {
   "cell_type": "markdown",
   "metadata": {},
   "source": [
    "**If** statements will only execute their code if the condition is True.  \n",
    "You can follow these up with **elif**, which checks a condition only if the last one didn't pass, or with **else**, which will run only if the other conditions did not pass.  \n",
    "\n",
    "You can keep stacking else/if statements but if you've got lots of them there might be a faster and easier solution."
   ]
  },
  {
   "cell_type": "code",
   "execution_count": 10,
   "metadata": {},
   "outputs": [
    {
     "name": "stdout",
     "output_type": "stream",
     "text": [
      "x is 0\n"
     ]
    }
   ],
   "source": [
    "x = 0\n",
    "\n",
    "if x == 1:\n",
    "    print('x is 1')\n",
    "elif x == 0:\n",
    "    print('x is 0')\n",
    "else:\n",
    "    print('x is neither 1 nor 0')"
   ]
  },
  {
   "cell_type": "markdown",
   "metadata": {},
   "source": [
    "## Boolean Operators (AND, OR, NOT)\n",
    "\n",
    "**AND** returns True if *both* values being compared are True, it is True in only one case.\n",
    "\n",
    "**OR** returns True if *either* value being compared is True, it is False in only one case.\n",
    "\n",
    "**NOT** inverts the response. If your statement would return True, with NOT it will return False.\n",
    "\n",
    "You can use these to add a lot of depth to your conditions, allowing for more complicated and powerful loops. `if response NOT (exactly what expected):` etc."
   ]
  },
  {
   "cell_type": "markdown",
   "metadata": {},
   "source": [
    "## Functions\n",
    "\n",
    "Functions are defined, given a name, and then have arguments passed to them.  \n",
    "Arguments take the form of variables, which you can then use only within that function.  \n",
    "Typically, functions are used for code that will be repeated many times, in order to make the code more readable and avoid redundancy.\n",
    "\n",
    "If you get information in a function that you want to use outside of it, you can **return** a value, and assign it to a variable.\n",
    "\n",
    "Here are two examples, one with returning, one without."
   ]
  },
  {
   "cell_type": "code",
   "execution_count": 11,
   "metadata": {},
   "outputs": [
    {
     "name": "stdout",
     "output_type": "stream",
     "text": [
      "Hello, Mika!\n",
      "8\n"
     ]
    }
   ],
   "source": [
    "def greeting(name):\n",
    "    print(\"Hello, \" + name + \"!\")\n",
    "    \n",
    "def powerOf(number,order):\n",
    "    return (number ** order)\n",
    "\n",
    "greeting(\"Mika\")\n",
    "\n",
    "total = powerOf(2, 3)\n",
    "print(total)"
   ]
  },
  {
   "cell_type": "markdown",
   "metadata": {},
   "source": [
    "`return` is also used to exit a function. You do not have to return anything, it's kind of like `break` in a while loop in this way."
   ]
  },
  {
   "cell_type": "code",
   "execution_count": 20,
   "metadata": {},
   "outputs": [],
   "source": [
    "def greeting(name):\n",
    "    if type(name) is not str:  # if name's type is not a string. you could use 'string' too.\n",
    "        return\n",
    "    print(\"Hello, \" + name + \"!\")\n",
    "    \n",
    "greeting(2)"
   ]
  },
  {
   "cell_type": "markdown",
   "metadata": {},
   "source": [
    "Functions don't need arguments! You can have a function do something that doesn't require any variable information and is really just to save on redundant code."
   ]
  },
  {
   "cell_type": "code",
   "execution_count": 31,
   "metadata": {},
   "outputs": [],
   "source": [
    "turn_counter = 0\n",
    "def itsNumberwang():\n",
    "    print(\"That's numberwang!\")\n",
    "    turn_counter += 1\n",
    "    # Add as needed"
   ]
  },
  {
   "cell_type": "markdown",
   "metadata": {},
   "source": [
    "________________\n",
    "________________\n",
    "________________"
   ]
  },
  {
   "cell_type": "markdown",
   "metadata": {},
   "source": [
    "# Lesson 3"
   ]
  },
  {
   "cell_type": "markdown",
   "metadata": {},
   "source": [
    "## Lists\n",
    "\n",
    "Lists are ordered collections of objects, no matter the type (including lists and similar).  \n",
    "They're easy to define: `list = [object,object,...]`\n",
    "\n",
    "They are indexed from zero and have many methods you can operate on them with.  \n",
    "You can find these here: https://docs.python.org/3/tutorial/datastructures.html"
   ]
  },
  {
   "cell_type": "markdown",
   "metadata": {},
   "source": [
    "## Tuples\n",
    "\n",
    "Like lists, with two main differences:  \n",
    "- immutable  \n",
    "- () parentheses, not [] brackets\n",
    "\n",
    "`tuple = (object,object,...)`  \n",
    "You can use these to avoid potential unwanted changes, simplify reading, minor performance improvements, and as a key in a dictionary."
   ]
  },
  {
   "cell_type": "markdown",
   "metadata": {},
   "source": [
    "## Dictionaries\n",
    "\n",
    "A collection of values, but indexed with **keys**.  \n",
    "Keys must be immutable (string, number, tuple), and are unique to a dictionary.  \n",
    "A value can be of any data type.\n",
    "\n",
    "Defined with curly braces {}. `dict = {key:value1, key2:value2, (tuple,this,time):value3, ...}`\n",
    "\n",
    "You access values in a dictionary using the key, and the key must be in a dictionary to access it."
   ]
  },
  {
   "cell_type": "markdown",
   "metadata": {},
   "source": [
    "## Indexing and slicing\n",
    "\n",
    "You can access many objects (strings, lists, tuples) with indexes.  \n",
    "Objects in Python are indexed from zero, so the first element in a list, or character in a string, is referred to with 0.\n",
    "\n",
    "`list[1]` will collect the second object in a list.\n",
    "\n",
    "You can also slice objects to access multiple elements at once.   \n",
    "`list[0:4]` will collect the first four elements: 0,1,2,3.  \n",
    "The `stop` argument is not inclusive. Think of it as you will get stop-start elements, starting from start. (4-0 = 4, from zero).\n",
    "\n",
    "You can also use negative numbers to access from the right-hand side!  \n",
    "[0:-2] will access all but the last two elements. [-3:] will access the last three elements onwards.\n"
   ]
  },
  {
   "cell_type": "code",
   "execution_count": 30,
   "metadata": {},
   "outputs": [
    {
     "name": "stdout",
     "output_type": "stream",
     "text": [
      "[1, 2, 3, 4]\n",
      "[1, 2, 3, 4]\n",
      "[4, 5, 6]\n",
      "5\n"
     ]
    }
   ],
   "source": [
    "list = [1,2,3,4,5,6]\n",
    "print(list[0:4])\n",
    "print(list[0:-2])\n",
    "print(list[-3:])\n",
    "print(list[-2])"
   ]
  },
  {
   "cell_type": "markdown",
   "metadata": {},
   "source": []
  }
 ],
 "metadata": {
  "kernelspec": {
   "display_name": "Python 3",
   "language": "python",
   "name": "python3"
  },
  "language_info": {
   "codemirror_mode": {
    "name": "ipython",
    "version": 3
   },
   "file_extension": ".py",
   "mimetype": "text/x-python",
   "name": "python",
   "nbconvert_exporter": "python",
   "pygments_lexer": "ipython3",
   "version": "3.7.6"
  }
 },
 "nbformat": 4,
 "nbformat_minor": 4
}
