{
 "cells": [
  {
   "attachments": {
    "image.png": {
     "image/png": "[encoded data removed]"
    }
   },
   "cell_type": "markdown",
   "metadata": {},
   "source": [
    "# Python, Lesson Two!\n",
    "\n",
    "## Welcome back! \n",
    "\n",
    "\n",
    "In the first Python workshop, we covered quite a lot of topics!  \n",
    "Just to make sure we're all up to speed, I'll give you a refresher on the contents of the last lesson.\n",
    "\n",
    "![image.png](attachment:image.png)\n"
   ]
  },
  {
   "cell_type": "markdown",
   "metadata": {},
   "source": [
    "# A Refresher\n",
    "\n",
    "\n",
    "### Variables\n",
    "\n",
    "Variables are assigned using `=`, and you can call them any word or sequence_of_words that you like.  \n",
    "They can be strings, numbers, anything really."
   ]
  },
  {
   "cell_type": "code",
   "execution_count": 1,
   "metadata": {},
   "outputs": [
    {
     "name": "stdout",
     "output_type": "stream",
     "text": [
      "5 7 12\n"
     ]
    }
   ],
   "source": [
    "x = 5\n",
    "y = 7\n",
    "z = x + y\n",
    "print(x, y, z)"
   ]
  },
  {
   "cell_type": "markdown",
   "metadata": {},
   "source": [
    "### Strings and Integers\n",
    "\n",
    "An integer is a whole number, and a string is a sequence of characters.  \n",
    "You can do maths things with integers, and word things with strings.  "
   ]
  },
  {
   "cell_type": "code",
   "execution_count": 2,
   "metadata": {},
   "outputs": [
    {
     "name": "stdout",
     "output_type": "stream",
     "text": [
      "4\n",
      "4 is now a string\n"
     ]
    }
   ],
   "source": [
    "integer = int(3.5) + 1\n",
    "print(integer)\n",
    "string = str(integer) + \" is now a string\"\n",
    "print(string)"
   ]
  },
  {
   "cell_type": "markdown",
   "metadata": {},
   "source": [
    "### Input\n",
    "\n",
    "Using `input()` allows you to take a user input and assign it to something!"
   ]
  },
  {
   "cell_type": "code",
   "execution_count": 3,
   "metadata": {},
   "outputs": [
    {
     "name": "stdout",
     "output_type": "stream",
     "text": [
      "What is your name?\n",
      "Em\n",
      "Hello Em\n"
     ]
    }
   ],
   "source": [
    "print(\"What is your name?\")\n",
    "name = input()\n",
    "# Alternatively: name = input(\"What is your name? \")\n",
    "print(\"Hello \" + name)"
   ]
  },
  {
   "cell_type": "markdown",
   "metadata": {},
   "source": [
    "### Functions \n",
    "\n",
    "A block of code you can call anywhere, to make it easily reusable and tidy up your code."
   ]
  },
  {
   "cell_type": "code",
   "execution_count": 4,
   "metadata": {},
   "outputs": [
    {
     "name": "stdout",
     "output_type": "stream",
     "text": [
      "Welcome, Gregg!\n",
      "Welcome, Jacob!\n",
      "Welcome, Thomas!\n"
     ]
    }
   ],
   "source": [
    "def greeting(name):\n",
    "    print(\"Welcome, \" + name + \"!\")\n",
    "\n",
    "greeting(\"Gregg\")\n",
    "greeting(\"Jacob\")\n",
    "greeting(\"Thomas\")"
   ]
  },
  {
   "cell_type": "markdown",
   "metadata": {},
   "source": [
    "### Comparisons\n",
    "\n",
    "Comparisons are not too useful alone, but paired with things like conditionals, loops, or checking that your code is working correctly, they're a critical part of most Python programs."
   ]
  },
  {
   "cell_type": "markdown",
   "metadata": {},
   "source": [
    "| Function | Symbol |\n",
    "|----------|--------|\n",
    "|  Equals  |   ==   |\n",
    "| Greater than | >  |\n",
    "| Less than | < |\n",
    "| Not equal | != | "
   ]
  },
  {
   "cell_type": "markdown",
   "metadata": {},
   "source": [
    "### Conditionals   \n",
    "Speaking of conditionals... you use these to check whether something is something. If the condition is met, you'll get a response of True, and otherwise False."
   ]
  },
  {
   "cell_type": "code",
   "execution_count": 5,
   "metadata": {},
   "outputs": [
    {
     "name": "stdout",
     "output_type": "stream",
     "text": [
      "Please input x as a number\n",
      "4\n",
      "x is less than five\n"
     ]
    }
   ],
   "source": [
    "print(\"Please input x as a number\")\n",
    "x = int(input())\n",
    "if x > 5:\n",
    "    print(\"x is greater than five\")\n",
    "elif x < 5:\n",
    "    print(\"x is less than five\")\n",
    "else:\n",
    "    print(\"x equals five\")"
   ]
  },
  {
   "cell_type": "markdown",
   "metadata": {},
   "source": [
    "### While Loop\n",
    "\n",
    "A loop that repeats everything within it, until a condition is met."
   ]
  },
  {
   "cell_type": "code",
   "execution_count": 6,
   "metadata": {},
   "outputs": [
    {
     "name": "stdout",
     "output_type": "stream",
     "text": [
      "6\n",
      "2\n",
      "1\n",
      "1\n"
     ]
    }
   ],
   "source": [
    "import random\n",
    "numrolls = 0\n",
    "\n",
    "while numrolls < 4:\n",
    "    roll = random.randint(1, 6)\n",
    "    print(roll)\n",
    "    numrolls = numrolls + 1  # this can also be typed as numrolls += 1"
   ]
  },
  {
   "cell_type": "markdown",
   "metadata": {},
   "source": [
    "### Boolean Operators\n",
    "Boolean operators are logical words that return new values depending on if their condition is met.\n",
    "`and`, `or`, `not`"
   ]
  },
  {
   "cell_type": "code",
   "execution_count": 7,
   "metadata": {},
   "outputs": [
    {
     "name": "stdout",
     "output_type": "stream",
     "text": [
      "None\n",
      "True\n",
      "True\n"
     ]
    }
   ],
   "source": [
    "a = 5\n",
    "b = 4\n",
    "c = None\n",
    "\n",
    "print(a and c)  # Both must be True (exist) for 'and' to return True\n",
    "\n",
    "if b or c:\n",
    "    print(True)  # Only one needs to exist for 'or' to return True\n",
    "\n",
    "if not c:\n",
    "    print(True)  # 'not' returns the opposite. \n",
    "                 # 'if not c:' would fail if we had defined c"
   ]
  },
  {
   "cell_type": "markdown",
   "metadata": {},
   "source": [
    "## All caught up!\n",
    "# So let's do some more with functions\n",
    "\n",
    "Functions have a particular use if you want to do calculations.  \n",
    "For example, let's make a function for an ATM, where we withdraw some money from an initial balance."
   ]
  },
  {
   "cell_type": "code",
   "execution_count": 8,
   "metadata": {
    "scrolled": true
   },
   "outputs": [
    {
     "name": "stdout",
     "output_type": "stream",
     "text": [
      "Please enter how much you want to withdraw: 50\n",
      "[in function] Your new balance is £50\n",
      "[out of function] Your new balance is £50\n"
     ]
    }
   ],
   "source": [
    "def atm(initialBalance):\n",
    "    withdrawal = input(\"Please enter how much you want to withdraw: \")\n",
    "    finalBalance = initialBalance - int(withdrawal)\n",
    "    print(\"[in function] Your new balance is £\" + str(finalBalance))\n",
    "    return finalBalance\n",
    "    \n",
    "balance = 100\n",
    "balance = atm(balance)\n",
    "print(\"[out of function] Your new balance is £\" + str(balance))"
   ]
  },
  {
   "attachments": {
    "image.png": {
     "image/png": "[encoded data removed]"
    }
   },
   "cell_type": "markdown",
   "metadata": {},
   "source": [
    "##### To break it down:\n",
    "We define a function called atm, and give it an initial balance.  \n",
    "We (or, the user can) choose how much to withdraw.\n",
    "We then take that from our initial balance and print the balance.\n",
    "After we've defined that, we make a balance, pass it along, and print it again to prove our function worked.\n",
    "\n",
    "\n",
    "The most important part here is `return finalBalance`.\n",
    "When you call a function, variables made within it won't persist afterwards. So, if you don't return the value you've made, you'll just lose it!\n",
    "\n",
    "`balance = atm(balance)` will assign balance to be whatever the result of atm is. Without `return finalBalance`, balance just becomes `None`.\n",
    "\n",
    "![image.png](attachment:image.png)"
   ]
  },
  {
   "cell_type": "markdown",
   "metadata": {},
   "source": [
    "# Exercise 1 -- Perform a function function\n",
    "\n",
    "Add to your previous guessing game by writing a function which takes your guess and performs some sort of mathemetical operation on it.\n",
    "\n",
    "[ This may need something else -- their game was in the previous notebook... ]\n"
   ]
  },
  {
   "cell_type": "code",
   "execution_count": null,
   "metadata": {},
   "outputs": [],
   "source": []
  },
  {
   "cell_type": "markdown",
   "metadata": {},
   "source": [
    "# Lists\n",
    "\n",
    "**Lists**, (sometimes called **arrays**) are collections of values, so we can store many variables.  \n",
    "Lists are indexed from zero: this means that the first element in a list is referred to with a zero."
   ]
  },
  {
   "cell_type": "code",
   "execution_count": 9,
   "metadata": {},
   "outputs": [
    {
     "name": "stdout",
     "output_type": "stream",
     "text": [
      "red\n",
      "green\n",
      "blue\n"
     ]
    }
   ],
   "source": [
    "colours = [\"red\", \"green\", \"blue\"]\n",
    "print(colours[0])\n",
    "print(colours[1])\n",
    "print(colours[2])"
   ]
  },
  {
   "cell_type": "markdown",
   "metadata": {},
   "source": [
    "##### But wait, lists shouldn't add!\n",
    "\n",
    "Like strings, you can also add lists! This too, is called concatenation."
   ]
  },
  {
   "cell_type": "code",
   "execution_count": 10,
   "metadata": {},
   "outputs": [
    {
     "name": "stdout",
     "output_type": "stream",
     "text": [
      "['purple', 'red', 'orange', 'blue']\n"
     ]
    }
   ],
   "source": [
    "coloursA = [\"purple\", \"red\"]\n",
    "coloursB = [\"orange\", \"blue\"]\n",
    "colours = coloursA + coloursB\n",
    "print(colours)"
   ]
  },
  {
   "cell_type": "markdown",
   "metadata": {},
   "source": [
    "There are some important list commands you'll want.  \n",
    "`.append()` will add to a list"
   ]
  },
  {
   "cell_type": "code",
   "execution_count": 11,
   "metadata": {},
   "outputs": [
    {
     "name": "stdout",
     "output_type": "stream",
     "text": [
      "['orange', 'blue', 'green']\n"
     ]
    }
   ],
   "source": [
    "coloursB.append(\"green\")\n",
    "print(coloursB)"
   ]
  },
  {
   "cell_type": "markdown",
   "metadata": {},
   "source": [
    "# Exercise 2 -- the other list commands\n",
    "\n",
    "Give these a try! Make your own list/string and have a go with these:\n",
    "(the first one is for a list, the last three for strings)\n",
    "`\n",
    "list.reverse()\n",
    "\n",
    "str.upper()\n",
    "str.lower()\n",
    "str.split()`"
   ]
  },
  {
   "cell_type": "code",
   "execution_count": null,
   "metadata": {},
   "outputs": [],
   "source": []
  },
  {
   "cell_type": "markdown",
   "metadata": {},
   "source": [
    "# For loops\n",
    "###### I did say we'd come back to these\n",
    "\n",
    "**for** loops are used when you want to repeat a block of code a particular number of times.\n",
    "You can loop over integers.\n",
    "\n",
    "Since Python counts from zeroes (like in lists), it's important to note that the first number is your starting number, and the loop will iterate up to but not including the final number. See below."
   ]
  },
  {
   "cell_type": "code",
   "execution_count": 12,
   "metadata": {},
   "outputs": [
    {
     "name": "stdout",
     "output_type": "stream",
     "text": [
      "0\n",
      "1\n",
      "2\n",
      "3\n",
      "4\n"
     ]
    }
   ],
   "source": [
    "for i in range(0, 5):\n",
    "    print(i)\n",
    "# We start at zero, and do not include five."
   ]
  },
  {
   "cell_type": "markdown",
   "metadata": {},
   "source": [
    "You can also loop over lists!"
   ]
  },
  {
   "cell_type": "code",
   "execution_count": 13,
   "metadata": {},
   "outputs": [
    {
     "name": "stdout",
     "output_type": "stream",
     "text": [
      "red\n",
      "green\n",
      "blue\n"
     ]
    }
   ],
   "source": [
    "for i in [\"red\", \"green\", \"blue\"]:\n",
    "    print(i)\n"
   ]
  },
  {
   "cell_type": "markdown",
   "metadata": {},
   "source": [
    "You don't have to write 'for i'. You can put anything there, which might make it easier for you to understand."
   ]
  },
  {
   "cell_type": "code",
   "execution_count": 14,
   "metadata": {},
   "outputs": [
    {
     "name": "stdout",
     "output_type": "stream",
     "text": [
      "red\n",
      "orange\n",
      "yellow\n",
      "green\n",
      "blue\n",
      "violet\n"
     ]
    }
   ],
   "source": [
    "colours = [\"red\", \"orange\", \"yellow\", \"green\", \"blue\", \"violet\"]\n",
    "\n",
    "for colour in colours:\n",
    "    print(colour)"
   ]
  },
  {
   "cell_type": "markdown",
   "metadata": {},
   "source": [
    "You can even loop over the characters in a string!"
   ]
  },
  {
   "cell_type": "code",
   "execution_count": 15,
   "metadata": {},
   "outputs": [
    {
     "name": "stdout",
     "output_type": "stream",
     "text": [
      "H\n",
      "e\n",
      "l\n",
      "l\n",
      "o\n",
      "!\n"
     ]
    }
   ],
   "source": [
    "for letter in \"Hello!\":\n",
    "    print(letter)"
   ]
  },
  {
   "cell_type": "markdown",
   "metadata": {},
   "source": [
    "# Exercise 3 -- For a while\n",
    "\n",
    "Write a **while** loop that fulfils the same function as a **for** loop.  \n",
    "Examples: a loop that counts to 10, or prints out colours."
   ]
  },
  {
   "cell_type": "code",
   "execution_count": null,
   "metadata": {},
   "outputs": [],
   "source": []
  },
  {
   "cell_type": "markdown",
   "metadata": {},
   "source": [
    "# Tuples -- Stubborn lists\n",
    "\n",
    "**Tuples** are like lists, but they have two main differences:  \n",
    "- Tuples use () parentheses, not [] brackets\n",
    "- Tuples cannot be modified, they are **immutable**."
   ]
  },
  {
   "cell_type": "code",
   "execution_count": 16,
   "metadata": {},
   "outputs": [
    {
     "name": "stdout",
     "output_type": "stream",
     "text": [
      "42\n"
     ]
    }
   ],
   "source": [
    "exampleTuple = (42, 'star wars', 'hitchhiker')\n",
    "print(exampleTuple[0])\n",
    "\n",
    "# To prove we cannot modify tuples, try the line of code below.\n",
    "# You'll get an error, but don't panic, that's intentional!\n",
    "# Just remove the hashtag, and then run the cell.\n",
    "\n",
    "#exampleTuple.append('Don\\'t panic!')"
   ]
  },
  {
   "cell_type": "markdown",
   "metadata": {},
   "source": [
    "# Dictionaries \n",
    "\n",
    "**Dictionaries** are a collection of **values**.  \n",
    "They are indexed with **keys**.  \n",
    "**Keys** must be an immutable data type (such as a string, number, a tuple) and are unique within a dictionary.  \n",
    "But a **value** can be any data type.  \n",
    "Dictionaries are defined using curly braces {}.\n",
    "\n",
    "Here's an example."
   ]
  },
  {
   "cell_type": "code",
   "execution_count": 17,
   "metadata": {},
   "outputs": [
    {
     "name": "stdout",
     "output_type": "stream",
     "text": [
      "???\n",
      "Gallifrey, Kasterborous\n",
      "903\n"
     ]
    }
   ],
   "source": [
    "# Remember, the format is dict={key:value, key:value}\n",
    "\n",
    "theDoctor = {'Name':'???', 'Home':'Gallifrey, Kasterborous', 'Age': 903}\n",
    "print(theDoctor['Name'])\n",
    "print(theDoctor['Home'])\n",
    "print(theDoctor['Age'])"
   ]
  },
  {
   "attachments": {
    "image.png": {
     "image/png": "[encoded data removed]"
    }
   },
   "cell_type": "markdown",
   "metadata": {},
   "source": [
    "## Flowcharts\n",
    "\n",
    "They're a useful way of mapping out your code.\n",
    "'This leads to this, leads to that, maybe back to this'. Sometimes a sketch, or just writing things out in a notepad\n",
    "<img style=\"float:center;\" src=attachment:image.png>\n",
    "\n",
    "A classic example...\n",
    "\n",
    "### Rock, Paper, Scissors... Lizard, Spock\n",
    "Scissors cuts paper  \n",
    "Paper covers rock  \n",
    "Rock crushes Lizard  \n",
    "Lizard poisons Spock  \n",
    "Spock smashes Scissors  \n",
    "Scissors decapitates lizard  \n",
    "Lizard eats paper  \n",
    "Paper disproves Spock  \n",
    "Spock vaporises rock  \n",
    "Rock crushes scissors  "
   ]
  },
  {
   "cell_type": "markdown",
   "metadata": {},
   "source": [
    "# Exercise 4 -- Cave Systems and Fire Lizards\n",
    "\n",
    "Put everything together and write a text adventure game!  \n",
    "Your player can choose a cave to enter, each of which contains a dragon.  \n",
    "Beat the dragon/fire lizard at its game, or become barbecue...  \n",
    "- Guess the number\n",
    "- Anagrams\n",
    "- Write your name backwards\n",
    "- Rock paper scissors lizard Spock\n",
    "- Hangman\n",
    "- Noughts and crosses"
   ]
  },
  {
   "cell_type": "code",
   "execution_count": null,
   "metadata": {},
   "outputs": [],
   "source": []
  },
  {
   "cell_type": "code",
   "execution_count": null,
   "metadata": {},
   "outputs": [],
   "source": []
  },
  {
   "cell_type": "code",
   "execution_count": null,
   "metadata": {},
   "outputs": [],
   "source": []
  }
 ],
 "metadata": {
  "kernelspec": {
   "display_name": "Python 3",
   "language": "python",
   "name": "python3"
  },
  "language_info": {
   "codemirror_mode": {
    "name": "ipython",
    "version": 3
   },
   "file_extension": ".py",
   "mimetype": "text/x-python",
   "name": "python",
   "nbconvert_exporter": "python",
   "pygments_lexer": "ipython3",
   "version": "3.7.6"
  }
 },
 "nbformat": 4,
 "nbformat_minor": 4
}
