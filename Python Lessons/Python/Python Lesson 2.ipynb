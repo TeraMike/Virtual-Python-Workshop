{
 "cells": [
  {
   "cell_type": "markdown",
   "metadata": {},
   "source": [
    "# Python, Lesson Two!\n",
    "\n",
    "## Welcome back!\n",
    "\n"
   ]
  },
  {
   "cell_type": "markdown",
   "metadata": {},
   "source": [
    "# What have we learned so far?\n",
    "\n",
    "Variables are assigned like so: `name = value`  \n",
    "So far we have seen number and string variables.\n",
    "\n",
    "Number variables can be interacted with as if they were numbers. `number *= 5` will multiply `number` by five.  \n",
    "You can convert a string to an integer by using `int()`, but this only works if your string is of an integer, like '5'. We can do the same thing with floats using `float()`.\n",
    "\n",
    "Likewise, you can convert an integer to a string by using `str()`.  \n",
    "Strings can be added together, or concatenated, by using `+`. This can be done when assigning variables or when just printing things out.  \n",
    "`print('Hello', name + ', how are you?)` will output << Hello name, how are you? >> In a print statement, using '+' leaves no space between concatenated strings, using ',' does. You must use `+` to assign a concatenated string to a variable.\n",
    "\n",
    "Finally, user input can be taken by using input(). Input can take a text argument, like so:  \n",
    "`variable = input('Please enter your favourite food: ')` or you can separate it out:  \n",
    "`print('Please enter your favourite food!)  \n",
    "variable = input()`\n"
   ]
  },
  {
   "attachments": {
    "image.png": {
     "image/png": "[encoded data removed]"
    }
   },
   "cell_type": "markdown",
   "metadata": {},
   "source": [
    "\n",
    "# Flow control\n",
    "\n",
    "Not everything happens in order, sometimes decisions must be made and code run, or not run, depending on the result.\n",
    "![image.png](attachment:image.png)\n",
    "\n",
    "We have three key options for conditionals:  \n",
    "#### **If**, **While**, **For**"
   ]
  },
  {
   "cell_type": "markdown",
   "metadata": {},
   "source": [
    "# While\n",
    "\n",
    "Loops are useful for repeating bits of code without having to retype it dozens or hundreds of times.  \n",
    "A while loop will keep going as long as the condition is met."
   ]
  },
  {
   "cell_type": "code",
   "execution_count": 25,
   "metadata": {
    "scrolled": true
   },
   "outputs": [
    {
     "name": "stdout",
     "output_type": "stream",
     "text": [
      "0\n",
      "1\n",
      "2\n",
      "3\n",
      "4\n"
     ]
    }
   ],
   "source": [
    "x = 0\n",
    "while (x < 5):\n",
    "    print(x)\n",
    "    x = x + 1\n",
    "# Try it! You'll find that the code repeats four times.\n",
    "# Change it up a bit too. Can x jump in 2s, or repeat eight times?"
   ]
  },
  {
   "cell_type": "markdown",
   "metadata": {},
   "source": [
    "## Looping in the program with While\n",
    "\n",
    "The **while** loop can be the main part of the program.\n",
    "Without going into too much detail, notice the four spaces before everything inside the loop. This is called indentation, and Python uses this to indicate the contents of almost all of its features, such as loops or functions."
   ]
  },
  {
   "cell_type": "code",
   "execution_count": 26,
   "metadata": {},
   "outputs": [],
   "source": [
    "guessesTaken = 0\n",
    "while guessesTaken < 6:\n",
    "    # Do something\n",
    "    guessesTaken = guessesTaken + 1"
   ]
  },
  {
   "cell_type": "markdown",
   "metadata": {},
   "source": [
    "# If -- choosing what to do\n",
    "\n",
    "Code inside an **if** statement is executed only if the condition is true.\n",
    "\n",
    "`if guess < number:  \n",
    "    print(\"Your guess is too low.\")`   \n",
    "You can see again here, once the indentation is done, the **if** statement is finished."
   ]
  },
  {
   "cell_type": "code",
   "execution_count": 27,
   "metadata": {},
   "outputs": [
    {
     "name": "stdout",
     "output_type": "stream",
     "text": [
      "x is less than or equal to 5!\n"
     ]
    }
   ],
   "source": [
    "#Let's look at an if statement\n",
    "\n",
    "x = 0  # Try changing the value of x...\n",
    "\n",
    "if (x > 5):\n",
    "    print(\"x is greater than 5\")\n",
    "else:\n",
    "    print(\"x is less than or equal to 5!\")\n",
    "\n",
    "# if statements do not need to have an else statement, but they often will."
   ]
  },
  {
   "cell_type": "code",
   "execution_count": 28,
   "metadata": {},
   "outputs": [
    {
     "name": "stdout",
     "output_type": "stream",
     "text": [
      "x is 0\n"
     ]
    }
   ],
   "source": [
    "# There also exists an elif statement, which means 'else if'.\n",
    "# It checks a condition, but only if the last check didn't pass.\n",
    "# With our example of x = 0...\n",
    "x = 0\n",
    "\n",
    "if x == 1:\n",
    "    print('x is 1')\n",
    "elif x == 0:\n",
    "    print('x is 0')\n",
    "else:\n",
    "    print('x is neither 1 nor 0')\n",
    "\n",
    "# You can have as many elifs as you want in one 'block', but if you have too many,\n",
    "# there's probably a better way of checking for your problem!"
   ]
  },
  {
   "cell_type": "markdown",
   "metadata": {},
   "source": [
    "Don't worry about FOR loops just yet -- we'll be coming back to those next lesson."
   ]
  },
  {
   "cell_type": "markdown",
   "metadata": {},
   "source": [
    "\n",
    "# Break/Continue\n",
    "\n",
    "\n",
    "     \n",
    "**break** will exit a loop before it is complete, even if the condition isn't met.  \n",
    "Similarly, you can **continue** to the next iteration of a loop if you want to avoid code later in the loop."
   ]
  },
  {
   "cell_type": "code",
   "execution_count": 2,
   "metadata": {},
   "outputs": [
    {
     "name": "stdout",
     "output_type": "stream",
     "text": [
      "0\n",
      "1\n",
      "2\n",
      "x is three, I want to skip four.\n",
      "5\n",
      "6\n"
     ]
    }
   ],
   "source": [
    "x = 0\n",
    "while (x <= 6):\n",
    "    if (x == 3):\n",
    "        print('x is three, I want to skip four.')\n",
    "        x += 2\n",
    "        continue  # Useful for making a different change (+2) than the loop's default (+1).\n",
    "    print(x)\n",
    "    x += 1 "
   ]
  },
  {
   "cell_type": "markdown",
   "metadata": {},
   "source": [
    "<a id='exercise_5'></a>\n",
    "# Exercise 5 -- Guess the number\n",
    "\n",
    "Make a 'guess the number' game, and add any or all of the following features, or even some of your own!\n",
    "- Customise the program\n",
    "- A difficulty setting (maybe limited guesses?)\n",
    "- A 2-player version"
   ]
  },
  {
   "cell_type": "markdown",
   "metadata": {},
   "source": [
    "Like exercise three, if you want, you can add this to the cells at the end of this notebook:  \n",
    "<a href='#Exercise_cells'>[Click here to go there]</a>  \n"
   ]
  },
  {
   "cell_type": "code",
   "execution_count": null,
   "metadata": {},
   "outputs": [],
   "source": []
  },
  {
   "cell_type": "markdown",
   "metadata": {},
   "source": [
    "# Recap -- What more do we know?\n",
    "\n",
    "We have imported and used a module! This is done by typing `import module` where module is the module you want.  \n",
    "You'll then be able to use functions from that module, which is done like so: `module.function()`. You can simply look up the module you want to import to find the functions that you can use from it.  \n",
    "In our example, we imported `random`, which allows to use functions like random.randint(x, y) which will give us a random integer between x and y inclusive.\n",
    "\n",
    "\n",
    "Conditionals! We can check if something is `True` or `False`, or compare conditions using greater than (>), less than (<), equal to (==) and not equal to (!=).\n",
    "\n",
    "We can use these conditions along with other statements to repeat code, or have code not execute at all unless a *condition* is met:  \n",
    "`if` thing compared to thing:\n",
    "    do something if true\n",
    "`elif` thing compared to thing:\n",
    "    do something if true\n",
    "`else`:\n",
    "    do something if no other condition is true\n",
    "    \n",
    "`while` some condition is true:\n",
    "    repeat indented code\n",
    "    \n",
    "You can also break a loop using `break`\n",
    "`while condition is true:\n",
    "    do something\n",
    "    if variable is not true:\n",
    "        break\n",
    "    do something else`"
   ]
  },
  {
   "attachments": {},
   "cell_type": "markdown",
   "metadata": {},
   "source": [
    "\n",
    "# Boolean Operators\n",
    "\n",
    "are simple words that use binary logic to return a new value.\n",
    "We will look at **AND**, **OR**, and **NOT**.\n",
    "\n",
    "<img src=\"images/AND_table.png\" alt=\"A logical table for AND.\" />  \n",
    "**AND** returns True only if _both_ values being compared are true.\n",
    "\n",
    "<img src=\"images/OR_table.png\" alt=\"A logical table for OR.\" />  \n",
    "**OR** returns True if _either_ value is true.\n",
    "\n",
    "**NOT** simply returns what it says! If you're checking if something is 'not False', you'll get a True value returned, if it isn't false. If it is False, your return will be False.\n",
    "\n",
    "\n",
    "They are used to test multiple statements at once.\n",
    "`while cave != '1' and cave != '2':` \n",
    "'while cave is not one and cave is not two' (so cave could be three)\n"
   ]
  },
  {
   "cell_type": "markdown",
   "metadata": {},
   "source": [
    "\n",
    "# Functions\n",
    "\n",
    "Our final feature for this lesson will be **functions**. You can write these for blocks of code that you'll want to use many times, to save you rewriting it.  \n",
    "Here's an example:"
   ]
  },
  {
   "cell_type": "code",
   "execution_count": 29,
   "metadata": {},
   "outputs": [
    {
     "name": "stdout",
     "output_type": "stream",
     "text": [
      "Welcome, Sophy\n",
      "Welcome, Angus\n",
      "Welcome, Callum\n"
     ]
    }
   ],
   "source": [
    "def greeting(name):\n",
    "    print(\"Welcome, \" + name)\n",
    "    \n",
    "greeting(\"Sophy\")\n",
    "greeting(\"Angus\")\n",
    "greeting(\"Callum\")"
   ]
  },
  {
   "cell_type": "markdown",
   "metadata": {},
   "source": [
    "To explain, you first define your function and give it a name.  \n",
    "`def greeting():`  \n",
    "\n",
    "However, in this case, we also give the function an argument to use, that's `name`.  \n",
    "`def greeting(name):`  Whenever we want to use this function, we need to give it a name to use as well.  \n",
    "\n",
    "Then, we add something for our function to do!  \n",
    "`def greeting(name):  \n",
    "     print(\"Welcome, \" + name)`  we use the provided name within our function. Note that code in a function must be indented, like if statements or while loops.\n",
    "     \n",
    "All that's left is to call our function somewhere else.  \n",
    "`greeting(\"Sophy\")` will print \"Welcome, Sophy\" as you can see above.\n",
    "\n",
    "You can do anything with a function! You could make one for numbers like `def double(number):` that doubles a number, or one that doesn't need an argument, like `def info():` which will print some important text."
   ]
  },
  {
   "cell_type": "markdown",
   "metadata": {},
   "source": [
    "These allow you to reuse code easily, and massively improve code space and readability. Functions are key to making any larger Python program!"
   ]
  },
  {
   "cell_type": "markdown",
   "metadata": {},
   "source": [
    "\n",
    "# Exercise 6\n",
    "\n",
    "Use a function or two or more in your 'guess the number' game.\n",
    "Perhaps one for the actual guess, or a guess quality indicator (hot or cold?)\n",
    "\n",
    "# Exercise 7 -- Prime Numbers\n",
    "Write a program that tells you if a number is prime.  \n",
    "- What is a prime number?  \n",
    "- Special cases\n",
    "\n",
    "**Hints:** 1 is not prime! Your code must not say that 1 is a prime number.  \n",
    "To check if a number is a factor of another number, you can use the *modulo* operator, %.  \n",
    "`x % y` gives the remainder of x when divided by y. `4 % 2 = 0`, `4 % 3 = 1`, `7 % 3 = 1`.  \n",
    "You need to check every number below your chosen number. You'll need a while loop.\n",
    "\n",
    "If you want to save some time in your code: any non-prime number will have a factor less than or equal to its square root. We can use the `math` module for this:  \n",
    "math.sqrt() for square root.\n",
    "\n",
    "\n",
    "# Exercise 8 -- Hangman\n",
    "The game where you have to guess a word, one letter at a time.  \n",
    "- How many guesses?\n",
    "- How do you display wrong guesses (you can only guess a letter once)?\n",
    "- Dealing with bad input -- how do make sure you can't enter numbers, capital letters (or no lowercase letters), punctuation"
   ]
  },
  {
   "cell_type": "markdown",
   "metadata": {},
   "source": [
    "<a href='#exercise_3'>[Back to Exercise 3 -- Roll the Dice]</a>  \n",
    "<a href='#exercise_5'>[Back to Exercise 5 -- Guess the Number]</a>\n",
    "\n",
    "<a id='Exercise_cells'></a>"
   ]
  },
  {
   "cell_type": "code",
   "execution_count": 30,
   "metadata": {},
   "outputs": [],
   "source": [
    "# Exercise 3/5/6"
   ]
  },
  {
   "cell_type": "code",
   "execution_count": 31,
   "metadata": {},
   "outputs": [],
   "source": [
    "# Exercise 7"
   ]
  },
  {
   "cell_type": "code",
   "execution_count": 32,
   "metadata": {},
   "outputs": [],
   "source": [
    "# Exercise 8"
   ]
  }
 ],
 "metadata": {
  "kernelspec": {
   "display_name": "Python 3",
   "language": "python",
   "name": "python3"
  },
  "language_info": {
   "codemirror_mode": {
    "name": "ipython",
    "version": 3
   },
   "file_extension": ".py",
   "mimetype": "text/x-python",
   "name": "python",
   "nbconvert_exporter": "python",
   "pygments_lexer": "ipython3",
   "version": "3.7.6"
  }
 },
 "nbformat": 4,
 "nbformat_minor": 4
}
